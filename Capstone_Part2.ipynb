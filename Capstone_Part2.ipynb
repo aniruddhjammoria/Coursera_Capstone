{
 "cells": [
  {
   "cell_type": "markdown",
   "metadata": {},
   "source": [
    "# Capstone Project: Clustering the world's largest cities"
   ]
  },
  {
   "cell_type": "markdown",
   "metadata": {},
   "source": [
    "### Aniruddh Jammoria"
   ]
  },
  {
   "cell_type": "markdown",
   "metadata": {},
   "source": [
    " "
   ]
  },
  {
   "cell_type": "markdown",
   "metadata": {},
   "source": [
    "## List of contents\n",
    "\n",
    "* [Introduction](#1)\n",
    "\n",
    "* [Data used](#2)\n",
    "\n",
    "* [Methodology](#3)\n",
    "    * [Importing the datasets from Wikipedia and Numbeo](#3.1)\n",
    "        * [Importing the list of the world's largest cities from Wikipedia](#3.1.1))\n",
    "        * [Importing citywise GDP data from Wikipedia](#3.1.2)\n",
    "        * [Importing citywise cost indices from Numbeo](#3.1.3)\n",
    "    * [Adding latitude and longitude values to the dataset](#3.2)\n",
    "    * [Querying venues around the city using FourSquare API](#3.3)\n",
    "    * [Exploratory data analysis on the demographic data](#3.4)\n",
    "        * [Column-wise distributions](#3.4.1)\n",
    "        * [Correlation between costs and GDP per capita](#3.4.2)\n",
    "        * [Correlation between costs and population density](#3.4.3)\n",
    "        * [Correlation between population density and GDP](#3.4.4)\n",
    "        * [Correlation between city area and other demographic variables](#3.4.5)\n",
    "* Clustering the dataset\n",
    "    * Clustering using only demographic data\n",
    "    * Clustering using venue data\n",
    "* Results and Discussion\n",
    "* Conclusion"
   ]
  },
  {
   "cell_type": "markdown",
   "metadata": {},
   "source": [
    "<a id = '1'></a>\n",
    "## 1. Introduction"
   ]
  },
  {
   "cell_type": "markdown",
   "metadata": {},
   "source": [
    "Millennials (people born between 1980 and 2000) comprise over one third of the global professional workforce - representing 25% of US and over 50% of the Indian working professionals. The global financial crisis of 2008 and the expected crisis because of the Coronavirus pandemic has affected the loyalty that millennials feel towards their employers. According to a [PWC survey](https://www.pwc.com/co/es/publicaciones/assets/millennials-at-work.pdf) conducted in 2011, more than 50% of millennials expected to have 2-5 employers within their lifetime. Millennials are also a globally mobile workforce - according to a [2019 survey conducted by Deloitte](https://www2.deloitte.com/global/en/pages/about-deloitte/articles/millennialsurvey.html), 'Seeing/Experiencing the world' was the topmost priority of millennials, with over 60% respondents expressing the desire to do so. USA, Brazil, UK, Germany, China and Singapore are the top destinations where millennials are sent for work assignments.\n",
    "\n",
    "<b>While career progression remains the topmost reason for international movement, several other factors come into play while zeroing down on the next big move. These include, but are not limited to expenses, incomes, population density (a measure of congestion), quality of life and cultural experience.</b> My own move to Singapore last year was driven primarily by my desire to explore South East Asia in greater detail. Travelling across various cities, I came to the realization that cities could have varying degrees of likeness - for example, the density and distribution of traffic in Jakarta (and the traffic jams that consequently arose) were very similar to what I saw in Mumbai and Bangalore. While smaller cities retained most of their 'local' flavour, larger and more cosmopolitan cities had restaurants and cafes serving foods from all leading cuisines.\n",
    "\n",
    "<b>This report aims at clustering 80 of the world's largest and most populated cities into two or more clusters, based on similarity across demographic attributes and venue density around the city centres.</b> For the sake of simplicity, the following basic demographic parameters are considered\n",
    "<b>\n",
    "1. Population\n",
    "2. City Area\n",
    "3. Population Density (a measure of how congested the city is)\n",
    "4. PPP adjusted GDP\n",
    "5. GDP per capita (a measure of the income levels within the city)\n",
    "6. Cost indices (a measure of the expenses within the city)\n",
    "</b>\n",
    "Both of these clustering approaches are discussed separately. Targeted mostly at millennials who are looking to move overseas, I hope that this report helps them get a flavour of what is yet to come."
   ]
  },
  {
   "cell_type": "markdown",
   "metadata": {},
   "source": [
    "<a id = '2'></a>\n",
    "## 2. Data used"
   ]
  },
  {
   "cell_type": "markdown",
   "metadata": {},
   "source": [
    "The code in this project uses the following data\n",
    "\n",
    "1. <b>A list of the world's 80 largest cities, as defined by the United Nations in 2018</b>. This data was obtained from Wikipedia. [The wiki](https://en.wikipedia.org/wiki/List_of_largest_cities) includes the city names, the country they are present in, and the populations and areas of different types of urban boundaries. Three different types of city boundaries are defined - Administrative, Metropolitan and Urban. The maximum value of population and area for each city (among the three different types of definitions) was considered in order to ensure availability of data. <br/>\n",
    "\n",
    "2. <b>GDP (Gross Domestic Product) for cities across the world. This data was also obtained from Wikipedia.</b> [The wiki](https://en.wikipedia.org/wiki/List_of_cities_by_GDP) page has nominal as well as absolute GDP values for >300 countries, This dataset has been populated from various sources, and has GDP values from different years. For some countries, the latest GDP measure might not be the most recent. However, for most major countries, the GDP value from 2018 is provided. Since this has to be compared across countries, the Purchasing Power Parity adjusted GDP was taken as an input. <br/>\n",
    "\n",
    "3. <b>Cost indices for cost of living, rent, groceries and restaurant prices.</b> This data was obtained from [Numeo](https://www.numbeo.com/cost-of-living/rankings.jsp?title=2019). The numbers are for 2019, relative to costs in New York City. A cost index of 125 means that the costs there are 25% higher than in NYC.\n",
    "\n",
    "4. <b>Coordinate data for each of the cities ie the Latitude and Longitude values.</b> This data was obtained using the geopy library of Python, and was used for plotting color-coded maps using the folium library. There are some city names (such as Paris) which are common - there are various cities of that name. In order to prevent duplication, the city name + country name was passed as an argument to the geolocator. <br/>\n",
    "\n",
    "5. <b>A list of venues around the city centre.</b> This data was obtained using the Foursquare API. All kinds of venues - parks, restaurants, hospitals etc were considered as a part of this exercise. Since we are looking at different types of venues around the city centre, a search radius of 10 kilometres was used, and a maximum of 500 venues in this radius were extracted. This was done to get a representative sample of the venues in each location."
   ]
  },
  {
   "cell_type": "markdown",
   "metadata": {},
   "source": [
    "<a id = '3'></a>\n",
    "## 3. Methodology"
   ]
  },
  {
   "cell_type": "markdown",
   "metadata": {},
   "source": [
    "This section discusses data sourcing and cleanup techniques, followed by exploratory data analysis on the datasets obtained."
   ]
  },
  {
   "cell_type": "code",
   "execution_count": 67,
   "metadata": {},
   "outputs": [],
   "source": [
    "#Import all the necessary libraries\n",
    "import numpy as np \n",
    "import pandas as pd\n",
    "import json \n",
    "from geopy.geocoders import Nominatim # convert an address into latitude and longitude values\n",
    "import requests # library to handle requests\n",
    "from pandas.io.json import json_normalize # tranform JSON file into a pandas dataframe\n",
    "import matplotlib.cm as cm\n",
    "import matplotlib.colors as colors\n",
    "from sklearn.cluster import KMeans\n",
    "import folium \n",
    "from bs4 import BeautifulSoup\n",
    "import time\n",
    "import math\n",
    "import matplotlib.pyplot as plt\n",
    "import seaborn as sns\n",
    "pd.set_option('display.max_colwidth', 0)\n",
    "from IPython.display import Image"
   ]
  },
  {
   "cell_type": "markdown",
   "metadata": {},
   "source": [
    "<a id = '3.1'></a>\n",
    "### 3.1 Importing the datasets from Wikipedia and Numbeo"
   ]
  },
  {
   "cell_type": "markdown",
   "metadata": {},
   "source": [
    "<a id = '3.1.1'></a>\n",
    "#### 3.1.1 Importing the list of the world's largest cities from Wikipedia"
   ]
  },
  {
   "cell_type": "markdown",
   "metadata": {},
   "source": [
    "The base dataset is the list of the world's 80 largest cities, obtained by reading [this wiki](https://en.wikipedia.org/wiki/List_of_largest_cities). Looking at the page source, we find that the table data is present under the class 'sortable wikitable mw-datatable'. The table defines three different type of city boundaries - Administrative, urban and metropolitan. Population and area details for all three of these definitions are read and then loaded into the dataframe <b>citydata</b>"
   ]
  },
  {
   "cell_type": "code",
   "execution_count": 2,
   "metadata": {},
   "outputs": [
    {
     "data": {
      "text/html": [
       "<div>\n",
       "<style scoped>\n",
       "    .dataframe tbody tr th:only-of-type {\n",
       "        vertical-align: middle;\n",
       "    }\n",
       "\n",
       "    .dataframe tbody tr th {\n",
       "        vertical-align: top;\n",
       "    }\n",
       "\n",
       "    .dataframe thead th {\n",
       "        text-align: right;\n",
       "    }\n",
       "</style>\n",
       "<table border=\"1\" class=\"dataframe\">\n",
       "  <thead>\n",
       "    <tr style=\"text-align: right;\">\n",
       "      <th></th>\n",
       "      <th>Name</th>\n",
       "      <th>PUN</th>\n",
       "      <th>PCP</th>\n",
       "      <th>PMET</th>\n",
       "      <th>PURB</th>\n",
       "      <th>ACP</th>\n",
       "      <th>AMET</th>\n",
       "      <th>AURB</th>\n",
       "      <th>Country</th>\n",
       "    </tr>\n",
       "  </thead>\n",
       "  <tbody>\n",
       "    <tr>\n",
       "      <th>0</th>\n",
       "      <td>Tokyo</td>\n",
       "      <td>37,400,068</td>\n",
       "      <td>13,515,271[14]</td>\n",
       "      <td>37,274,000[15]</td>\n",
       "      <td>38,505,000</td>\n",
       "      <td>2,191[14]</td>\n",
       "      <td>13,452[15]</td>\n",
       "      <td>8,223[d]</td>\n",
       "      <td>Japan</td>\n",
       "    </tr>\n",
       "    <tr>\n",
       "      <th>1</th>\n",
       "      <td>Delhi</td>\n",
       "      <td>28,514,000</td>\n",
       "      <td>16,753,235[16]</td>\n",
       "      <td>29,000,000[17]</td>\n",
       "      <td>28,125,000</td>\n",
       "      <td>1,484</td>\n",
       "      <td>3,483[17]</td>\n",
       "      <td>2,240[e]</td>\n",
       "      <td>India</td>\n",
       "    </tr>\n",
       "    <tr>\n",
       "      <th>2</th>\n",
       "      <td>Shanghai</td>\n",
       "      <td>25,582,000</td>\n",
       "      <td>24,183,000[18]</td>\n",
       "      <td>N/A</td>\n",
       "      <td>22,125,000</td>\n",
       "      <td>6,341</td>\n",
       "      <td>N/A</td>\n",
       "      <td>4,015[f]</td>\n",
       "      <td>China</td>\n",
       "    </tr>\n",
       "    <tr>\n",
       "      <th>3</th>\n",
       "      <td>São Paulo</td>\n",
       "      <td>21,650,000</td>\n",
       "      <td>12,252,023[19]</td>\n",
       "      <td>21,734,682[20]</td>\n",
       "      <td>20,935,000</td>\n",
       "      <td>1,521</td>\n",
       "      <td>7,947</td>\n",
       "      <td>3,043[g]</td>\n",
       "      <td>Brazil</td>\n",
       "    </tr>\n",
       "    <tr>\n",
       "      <th>4</th>\n",
       "      <td>Mexico City</td>\n",
       "      <td>21,581,000</td>\n",
       "      <td>8,918,653[21]</td>\n",
       "      <td>20,892,724[22]</td>\n",
       "      <td>20,395,000</td>\n",
       "      <td>1,485</td>\n",
       "      <td>7,854</td>\n",
       "      <td>2,370</td>\n",
       "      <td>Mexico</td>\n",
       "    </tr>\n",
       "  </tbody>\n",
       "</table>\n",
       "</div>"
      ],
      "text/plain": [
       "          Name         PUN             PCP            PMET        PURB  \\\n",
       "0  Tokyo        37,400,068  13,515,271[14]  37,274,000[15]  38,505,000   \n",
       "1  Delhi        28,514,000  16,753,235[16]  29,000,000[17]  28,125,000   \n",
       "2  Shanghai     25,582,000  24,183,000[18]  N/A             22,125,000   \n",
       "3  São Paulo    21,650,000  12,252,023[19]  21,734,682[20]  20,935,000   \n",
       "4  Mexico City  21,581,000  8,918,653[21]   20,892,724[22]  20,395,000   \n",
       "\n",
       "         ACP        AMET      AURB Country  \n",
       "0  2,191[14]  13,452[15]  8,223[d]  Japan   \n",
       "1  1,484      3,483[17]   2,240[e]  India   \n",
       "2  6,341      N/A         4,015[f]  China   \n",
       "3  1,521      7,947       3,043[g]  Brazil  \n",
       "4  1,485      7,854       2,370     Mexico  "
      ]
     },
     "execution_count": 2,
     "metadata": {},
     "output_type": "execute_result"
    }
   ],
   "source": [
    "wiki_link = 'https://en.wikipedia.org/wiki/List_of_largest_cities'\n",
    "\n",
    "#get the html and convert to parser\n",
    "web_html = requests.get(wiki_link).text\n",
    "soup = BeautifulSoup(web_html, 'html.parser')\n",
    "\n",
    "#the table is under the class wikitable sortable\n",
    "table = soup.find('table', {'class':'sortable wikitable mw-datatable'})\n",
    "\n",
    "#create blank arrays to hold the data\n",
    "name = []\n",
    "population_un = []\n",
    "population_cp = []\n",
    "population_met = []\n",
    "population_urb = []\n",
    "area_cp = []\n",
    "area_met = []\n",
    "area_urb = []\n",
    "country = []\n",
    "\n",
    "rows = table.find_all('tr') #find rows with the TR tag\n",
    "\n",
    "for r in rows:\n",
    "    cell = r.find_all('td') #find cells with the TD tag\n",
    "    if (len(cell) > 1):\n",
    "        nam = cell[0] #first element is the name\n",
    "        ctr = cell[1]\n",
    "        pop_un = cell[3]\n",
    "        pop_cp = cell[5]\n",
    "        pop_met = cell[7]\n",
    "        pop_urb = cell[9]\n",
    "        ar_cp = cell[6]\n",
    "        ar_met = cell[8]\n",
    "        ar_urb = cell[10]\n",
    "       \n",
    "        name.append(nam.text.strip())\n",
    "        population_un.append(pop_un.text.strip())\n",
    "        population_cp.append(pop_cp.text.strip())\n",
    "        population_met.append(pop_met.text.strip())\n",
    "        population_urb.append(pop_urb.text.strip())\n",
    "        area_cp.append(ar_cp.text.strip())\n",
    "        area_met.append(ar_met.text.strip())\n",
    "        area_urb.append(ar_urb.text.strip())\n",
    "        country.append(ctr.text.strip())\n",
    "\n",
    "#define a blank dataframe and populate it with the data read from the page\n",
    "citydata = pd.DataFrame({'Name':name, \"PUN\":population_un, \"PCP\":population_cp, \"PMET\":population_met, \"PURB\":population_urb,\n",
    "                         'ACP':area_cp, 'AMET':area_met, 'AURB':area_urb, 'Country':country})\n",
    "\n",
    "citydata.head()"
   ]
  },
  {
   "cell_type": "code",
   "execution_count": 3,
   "metadata": {},
   "outputs": [
    {
     "name": "stdout",
     "output_type": "stream",
     "text": [
      "The original City dataset has 81 rows and 9 columns\n"
     ]
    }
   ],
   "source": [
    "print('The original City dataset has', citydata.shape[0], 'rows and', citydata.shape[1], 'columns')"
   ]
  },
  {
   "cell_type": "markdown",
   "metadata": {},
   "source": [
    "There are several special characters in the text - numbers separated by commas, and square brackets for providing references. These values are removed by using the <b>replace and split</b> methods. All the 'N/A' values are converted to zero and all the columns that are supposed to have numerical data are converted from string to float data type to facilitate further calculations. 'New York City' is renamed to 'New York' to ensure consistency with later dataframes."
   ]
  },
  {
   "cell_type": "code",
   "execution_count": 4,
   "metadata": {},
   "outputs": [],
   "source": [
    "#Remove special characters from the text\n",
    "str_columns = ['PUN', 'PCP', 'PMET', 'PURB', 'ACP', 'AMET', 'AURB']\n",
    "\n",
    "for index, rowdata in citydata.iterrows():\n",
    "    for column in str_columns:\n",
    "        citydata.at[index, column] = citydata.at[index, column].replace(',', '') #remove the comma\n",
    "        citydata.at[index, column] = citydata.at[index, column].split('[')[0] #split for square brackets, take first term\n",
    "        \n",
    "        if (citydata.at[index, column] == 'N/A') or (citydata.at[index, column] == ''):\n",
    "            citydata.at[index, column] = 0 #convert all NA and blank values to zero\n",
    "            \n",
    "#rename NYC to NY\n",
    "for index, rowdata in citydata.iterrows():\n",
    "    if (citydata.at[index, 'Name'] == 'New York City'):\n",
    "        citydata.at[index, 'Name'] = 'New York'\n",
    "            \n",
    "            \n",
    "#convert the numerical values to float\n",
    "citydata[str_columns] = citydata[str_columns].astype(float)"
   ]
  },
  {
   "cell_type": "markdown",
   "metadata": {},
   "source": [
    "Since the population and area estimates are done from various sources, they are not complete. To ensure availability of data, the population and area of a city are defined as the maximum value of the three (or less) data sources that are available. A new parameter <b>Density (Population Density)</b> is defined as Population/Area. The rows for which population or area are zero are filtered out, and the resulting dataframe is stored in <b>df_cities</b>"
   ]
  },
  {
   "cell_type": "code",
   "execution_count": 5,
   "metadata": {
    "scrolled": false
   },
   "outputs": [
    {
     "data": {
      "text/html": [
       "<div>\n",
       "<style scoped>\n",
       "    .dataframe tbody tr th:only-of-type {\n",
       "        vertical-align: middle;\n",
       "    }\n",
       "\n",
       "    .dataframe tbody tr th {\n",
       "        vertical-align: top;\n",
       "    }\n",
       "\n",
       "    .dataframe thead th {\n",
       "        text-align: right;\n",
       "    }\n",
       "</style>\n",
       "<table border=\"1\" class=\"dataframe\">\n",
       "  <thead>\n",
       "    <tr style=\"text-align: right;\">\n",
       "      <th></th>\n",
       "      <th>Name</th>\n",
       "      <th>Country</th>\n",
       "      <th>Population</th>\n",
       "      <th>Area</th>\n",
       "      <th>Density</th>\n",
       "    </tr>\n",
       "  </thead>\n",
       "  <tbody>\n",
       "    <tr>\n",
       "      <th>0</th>\n",
       "      <td>Tokyo</td>\n",
       "      <td>Japan</td>\n",
       "      <td>38505000.0</td>\n",
       "      <td>13452.0</td>\n",
       "      <td>2862.399643</td>\n",
       "    </tr>\n",
       "    <tr>\n",
       "      <th>1</th>\n",
       "      <td>Delhi</td>\n",
       "      <td>India</td>\n",
       "      <td>29000000.0</td>\n",
       "      <td>3483.0</td>\n",
       "      <td>8326.155613</td>\n",
       "    </tr>\n",
       "    <tr>\n",
       "      <th>2</th>\n",
       "      <td>Shanghai</td>\n",
       "      <td>China</td>\n",
       "      <td>25582000.0</td>\n",
       "      <td>6341.0</td>\n",
       "      <td>4034.379435</td>\n",
       "    </tr>\n",
       "    <tr>\n",
       "      <th>3</th>\n",
       "      <td>São Paulo</td>\n",
       "      <td>Brazil</td>\n",
       "      <td>21734682.0</td>\n",
       "      <td>7947.0</td>\n",
       "      <td>2734.954322</td>\n",
       "    </tr>\n",
       "    <tr>\n",
       "      <th>4</th>\n",
       "      <td>Mexico City</td>\n",
       "      <td>Mexico</td>\n",
       "      <td>21581000.0</td>\n",
       "      <td>7854.0</td>\n",
       "      <td>2747.771836</td>\n",
       "    </tr>\n",
       "  </tbody>\n",
       "</table>\n",
       "</div>"
      ],
      "text/plain": [
       "          Name Country  Population     Area      Density\n",
       "0  Tokyo        Japan   38505000.0  13452.0  2862.399643\n",
       "1  Delhi        India   29000000.0  3483.0   8326.155613\n",
       "2  Shanghai     China   25582000.0  6341.0   4034.379435\n",
       "3  São Paulo    Brazil  21734682.0  7947.0   2734.954322\n",
       "4  Mexico City  Mexico  21581000.0  7854.0   2747.771836"
      ]
     },
     "execution_count": 5,
     "metadata": {},
     "output_type": "execute_result"
    }
   ],
   "source": [
    "#Select the maximum values to define area and population\n",
    "for index, rowdata in citydata.iterrows():\n",
    "    citydata.at[index, 'Population'] = max(citydata.at[index, 'PUN'], citydata.at[index, 'PCP'], citydata.at[index, 'PMET'], citydata.at[index, 'PURB'] )\n",
    "    citydata.at[index, 'Area'] = max(citydata.at[index, 'ACP'], citydata.at[index, 'AMET'], citydata.at[index, 'AURB'])\n",
    "\n",
    "#Create a new dataframe and add the density variable\n",
    "df_cities = citydata.copy()\n",
    "df_cities.drop(str_columns, axis = 1, inplace = True)\n",
    "df_cities['Density'] = df_cities['Population']/df_cities['Area']\n",
    "\n",
    "#remove the cities where the area is zero\n",
    "row_filter = (df_cities['Area']*df_cities['Population'] != 0)\n",
    "df_cities = df_cities[row_filter].reset_index()\n",
    "df_cities = df_cities.drop('index', axis = 1)\n",
    "df_cities.head()"
   ]
  },
  {
   "cell_type": "code",
   "execution_count": 6,
   "metadata": {},
   "outputs": [
    {
     "name": "stdout",
     "output_type": "stream",
     "text": [
      "The processed City dataset has 76 rows and 5 columns\n"
     ]
    }
   ],
   "source": [
    "print('The processed City dataset has', df_cities.shape[0], 'rows and', df_cities.shape[1], 'columns')"
   ]
  },
  {
   "cell_type": "markdown",
   "metadata": {},
   "source": [
    "<a id = '3.1.2'></a>\n",
    "#### 3.1.2 Importing citywise GDP data from Wikipedia"
   ]
  },
  {
   "cell_type": "markdown",
   "metadata": {},
   "source": [
    "GDP values for the world's major cities can be found on [this wiki](https://en.wikipedia.org/wiki/List_of_cities_by_GDP). The GDP estimation has been done by various sources, but to ensure uniformity of comparison we use the <b>Purchasing Power Parity (PPP) adjusted GDP</b>. As mentioned in the previous section, we import the GDP table, remove all blank and NaN data, and change the datatype of the GDP column to float. The resulting dataframe is named <b>df_gdp</b>."
   ]
  },
  {
   "cell_type": "code",
   "execution_count": 7,
   "metadata": {},
   "outputs": [
    {
     "data": {
      "text/html": [
       "<div>\n",
       "<style scoped>\n",
       "    .dataframe tbody tr th:only-of-type {\n",
       "        vertical-align: middle;\n",
       "    }\n",
       "\n",
       "    .dataframe tbody tr th {\n",
       "        vertical-align: top;\n",
       "    }\n",
       "\n",
       "    .dataframe thead th {\n",
       "        text-align: right;\n",
       "    }\n",
       "</style>\n",
       "<table border=\"1\" class=\"dataframe\">\n",
       "  <thead>\n",
       "    <tr style=\"text-align: right;\">\n",
       "      <th></th>\n",
       "      <th>Name</th>\n",
       "      <th>GDP_bn</th>\n",
       "    </tr>\n",
       "  </thead>\n",
       "  <tbody>\n",
       "    <tr>\n",
       "      <th>0</th>\n",
       "      <td>Aachen-Liège-Maastricht</td>\n",
       "      <td>99.7</td>\n",
       "    </tr>\n",
       "    <tr>\n",
       "      <th>1</th>\n",
       "      <td>Abu Dhabi</td>\n",
       "      <td>178.3</td>\n",
       "    </tr>\n",
       "    <tr>\n",
       "      <th>2</th>\n",
       "      <td>Adelaide</td>\n",
       "      <td>47.4</td>\n",
       "    </tr>\n",
       "    <tr>\n",
       "      <th>3</th>\n",
       "      <td>Akron</td>\n",
       "      <td>32.8</td>\n",
       "    </tr>\n",
       "    <tr>\n",
       "      <th>4</th>\n",
       "      <td>Albany</td>\n",
       "      <td>58.4</td>\n",
       "    </tr>\n",
       "  </tbody>\n",
       "</table>\n",
       "</div>"
      ],
      "text/plain": [
       "                      Name  GDP_bn\n",
       "0  Aachen-Liège-Maastricht  99.7  \n",
       "1  Abu Dhabi                178.3 \n",
       "2  Adelaide                 47.4  \n",
       "3  Akron                    32.8  \n",
       "4  Albany                   58.4  "
      ]
     },
     "execution_count": 7,
     "metadata": {},
     "output_type": "execute_result"
    }
   ],
   "source": [
    "#importing the GDP dataset\n",
    "wiki_link = 'https://en.wikipedia.org/wiki/List_of_cities_by_GDP'\n",
    "\n",
    "#get the html and convert to parser\n",
    "web_html = requests.get(wiki_link).text\n",
    "soup = BeautifulSoup(web_html, 'html.parser')\n",
    "\n",
    "#the table is under the class wikitable sortable\n",
    "table = soup.find('table', {'class':'wikitable sortable'})\n",
    "\n",
    "#create blank arrays to hold the data\n",
    "name = []\n",
    "gdp = []\n",
    "\n",
    "rows = table.find_all('tr') #find rows with the TR tag\n",
    "\n",
    "for r in rows:\n",
    "    cell = r.find_all('td') #find cells with the TD tag\n",
    "    if (len(cell) > 1):\n",
    "        nam = cell[0] #first element is the name\n",
    "        gd = cell[4] #fifth element is the GDP\n",
    "        \n",
    "       \n",
    "        name.append(nam.text.strip())\n",
    "        gdp.append(gd.text.strip())\n",
    "\n",
    "#define a blank dataframe and populate it with the data read from the page\n",
    "df_gdp = pd.DataFrame({'Name':name, \"GDP_bn\":gdp})\n",
    "\n",
    "#drop all rows with blank GDP values\n",
    "nan_value = float('NaN')\n",
    "df_gdp.replace('', nan_value, inplace = True)\n",
    "df_gdp.dropna(inplace = True)\n",
    "\n",
    "#remove special characters\n",
    "for index, rowdata in df_gdp.iterrows():\n",
    "    df_gdp.at[index, 'GDP_bn'] = df_gdp.at[index, 'GDP_bn'].split('[')[0]\n",
    "    df_gdp.at[index, 'GDP_bn'] = df_gdp.at[index, 'GDP_bn'].replace(',', '')\n",
    "    \n",
    "#make the GDP column as float\n",
    "df_gdp['GDP_bn'] = df_gdp['GDP_bn'].astype(float)\n",
    "df_gdp.reset_index(drop = True).head()"
   ]
  },
  {
   "cell_type": "code",
   "execution_count": 8,
   "metadata": {},
   "outputs": [
    {
     "name": "stdout",
     "output_type": "stream",
     "text": [
      "The original GDP dataset has 314 rows and 2 columns\n"
     ]
    }
   ],
   "source": [
    "print('The original GDP dataset has', df_gdp.shape[0], 'rows and', df_gdp.shape[1], 'columns')"
   ]
  },
  {
   "cell_type": "markdown",
   "metadata": {},
   "source": [
    "The GDP information is then merged with the city data dataframe (df_cities) which was defined in section 3.1. Since we need to ensure that GDP data is available for all cities that we want to analyze, we do an inner join of both of these dataframes (this will lead to some cities being lost from the original dataframe). Additionally, we define a new parameter <b>GDP_pc ie the Per Capita GDP</b> which is calculated by dividing the city's GDP by its population. Note that the original GDP was in Billions of dollars, whereas the per capita GDP is in dollars."
   ]
  },
  {
   "cell_type": "code",
   "execution_count": 9,
   "metadata": {},
   "outputs": [
    {
     "data": {
      "text/html": [
       "<div>\n",
       "<style scoped>\n",
       "    .dataframe tbody tr th:only-of-type {\n",
       "        vertical-align: middle;\n",
       "    }\n",
       "\n",
       "    .dataframe tbody tr th {\n",
       "        vertical-align: top;\n",
       "    }\n",
       "\n",
       "    .dataframe thead th {\n",
       "        text-align: right;\n",
       "    }\n",
       "</style>\n",
       "<table border=\"1\" class=\"dataframe\">\n",
       "  <thead>\n",
       "    <tr style=\"text-align: right;\">\n",
       "      <th></th>\n",
       "      <th>Name</th>\n",
       "      <th>Country</th>\n",
       "      <th>Population</th>\n",
       "      <th>Area</th>\n",
       "      <th>Density</th>\n",
       "      <th>GDP_bn</th>\n",
       "      <th>GDP_pc</th>\n",
       "    </tr>\n",
       "  </thead>\n",
       "  <tbody>\n",
       "    <tr>\n",
       "      <th>0</th>\n",
       "      <td>Tokyo</td>\n",
       "      <td>Japan</td>\n",
       "      <td>38505000.0</td>\n",
       "      <td>13452.0</td>\n",
       "      <td>2862.399643</td>\n",
       "      <td>1617.0</td>\n",
       "      <td>41994.546163</td>\n",
       "    </tr>\n",
       "    <tr>\n",
       "      <th>1</th>\n",
       "      <td>Delhi</td>\n",
       "      <td>India</td>\n",
       "      <td>29000000.0</td>\n",
       "      <td>3483.0</td>\n",
       "      <td>8326.155613</td>\n",
       "      <td>293.6</td>\n",
       "      <td>10124.137931</td>\n",
       "    </tr>\n",
       "    <tr>\n",
       "      <th>2</th>\n",
       "      <td>Shanghai</td>\n",
       "      <td>China</td>\n",
       "      <td>25582000.0</td>\n",
       "      <td>6341.0</td>\n",
       "      <td>4034.379435</td>\n",
       "      <td>594.0</td>\n",
       "      <td>23219.451177</td>\n",
       "    </tr>\n",
       "    <tr>\n",
       "      <th>3</th>\n",
       "      <td>São Paulo</td>\n",
       "      <td>Brazil</td>\n",
       "      <td>21734682.0</td>\n",
       "      <td>7947.0</td>\n",
       "      <td>2734.954322</td>\n",
       "      <td>430.5</td>\n",
       "      <td>19807.053078</td>\n",
       "    </tr>\n",
       "    <tr>\n",
       "      <th>4</th>\n",
       "      <td>Mexico City</td>\n",
       "      <td>Mexico</td>\n",
       "      <td>21581000.0</td>\n",
       "      <td>7854.0</td>\n",
       "      <td>2747.771836</td>\n",
       "      <td>403.6</td>\n",
       "      <td>18701.635698</td>\n",
       "    </tr>\n",
       "  </tbody>\n",
       "</table>\n",
       "</div>"
      ],
      "text/plain": [
       "          Name Country  Population     Area      Density  GDP_bn        GDP_pc\n",
       "0  Tokyo        Japan   38505000.0  13452.0  2862.399643  1617.0  41994.546163\n",
       "1  Delhi        India   29000000.0  3483.0   8326.155613  293.6   10124.137931\n",
       "2  Shanghai     China   25582000.0  6341.0   4034.379435  594.0   23219.451177\n",
       "3  São Paulo    Brazil  21734682.0  7947.0   2734.954322  430.5   19807.053078\n",
       "4  Mexico City  Mexico  21581000.0  7854.0   2747.771836  403.6   18701.635698"
      ]
     },
     "execution_count": 9,
     "metadata": {},
     "output_type": "execute_result"
    }
   ],
   "source": [
    "#merge both dataframes on the city name key\n",
    "df_cities = df_cities.merge(df_gdp, how = 'inner', left_on = 'Name', right_on = 'Name')\n",
    "\n",
    "#define the per capita GDP\n",
    "df_cities['GDP_pc'] = df_cities['GDP_bn']*1000000000/df_cities['Population']\n",
    "df_cities.head()"
   ]
  },
  {
   "cell_type": "code",
   "execution_count": 10,
   "metadata": {},
   "outputs": [
    {
     "name": "stdout",
     "output_type": "stream",
     "text": [
      "The merged City dataset has 60 rows and 7 columns\n"
     ]
    }
   ],
   "source": [
    "print('The merged City dataset has', df_cities.shape[0], 'rows and', df_cities.shape[1], 'columns')"
   ]
  },
  {
   "cell_type": "markdown",
   "metadata": {},
   "source": [
    "<a id = '3.1.3'></a>\n",
    "#### 3.1.3 Importing citywise cost indices from Numbeo"
   ]
  },
  {
   "cell_type": "markdown",
   "metadata": {},
   "source": [
    "Numeo has tabulated various cost indices for 433 cities across the world, the dataset can be found [here](https://www.numbeo.com/cost-of-living/rankings.jsp?title=2019). Looking at the page's source, the table is found under the class 'stripe row-border order-column compact'. Four different cost indices - cost of living, rent, groceries and restaurant prices are read from this table and stored in the dataframe <b>df_indices</b>"
   ]
  },
  {
   "cell_type": "code",
   "execution_count": 11,
   "metadata": {},
   "outputs": [
    {
     "data": {
      "text/html": [
       "<div>\n",
       "<style scoped>\n",
       "    .dataframe tbody tr th:only-of-type {\n",
       "        vertical-align: middle;\n",
       "    }\n",
       "\n",
       "    .dataframe tbody tr th {\n",
       "        vertical-align: top;\n",
       "    }\n",
       "\n",
       "    .dataframe thead th {\n",
       "        text-align: right;\n",
       "    }\n",
       "</style>\n",
       "<table border=\"1\" class=\"dataframe\">\n",
       "  <thead>\n",
       "    <tr style=\"text-align: right;\">\n",
       "      <th></th>\n",
       "      <th>Name</th>\n",
       "      <th>COL</th>\n",
       "      <th>RENT</th>\n",
       "      <th>GROC</th>\n",
       "      <th>REST</th>\n",
       "    </tr>\n",
       "  </thead>\n",
       "  <tbody>\n",
       "    <tr>\n",
       "      <th>0</th>\n",
       "      <td>Basel, Switzerland</td>\n",
       "      <td>131.37</td>\n",
       "      <td>45.62</td>\n",
       "      <td>127.40</td>\n",
       "      <td>128.41</td>\n",
       "    </tr>\n",
       "    <tr>\n",
       "      <th>1</th>\n",
       "      <td>Zurich, Switzerland</td>\n",
       "      <td>126.87</td>\n",
       "      <td>59.72</td>\n",
       "      <td>128.53</td>\n",
       "      <td>126.15</td>\n",
       "    </tr>\n",
       "    <tr>\n",
       "      <th>2</th>\n",
       "      <td>Lausanne, Switzerland</td>\n",
       "      <td>123.42</td>\n",
       "      <td>48.62</td>\n",
       "      <td>128.21</td>\n",
       "      <td>120.11</td>\n",
       "    </tr>\n",
       "    <tr>\n",
       "      <th>3</th>\n",
       "      <td>Bern, Switzerland</td>\n",
       "      <td>123.17</td>\n",
       "      <td>39.37</td>\n",
       "      <td>122.06</td>\n",
       "      <td>114.49</td>\n",
       "    </tr>\n",
       "    <tr>\n",
       "      <th>4</th>\n",
       "      <td>Geneva, Switzerland</td>\n",
       "      <td>118.87</td>\n",
       "      <td>67.10</td>\n",
       "      <td>116.00</td>\n",
       "      <td>123.04</td>\n",
       "    </tr>\n",
       "  </tbody>\n",
       "</table>\n",
       "</div>"
      ],
      "text/plain": [
       "                    Name     COL   RENT    GROC    REST\n",
       "0  Basel, Switzerland     131.37  45.62  127.40  128.41\n",
       "1  Zurich, Switzerland    126.87  59.72  128.53  126.15\n",
       "2  Lausanne, Switzerland  123.42  48.62  128.21  120.11\n",
       "3  Bern, Switzerland      123.17  39.37  122.06  114.49\n",
       "4  Geneva, Switzerland    118.87  67.10  116.00  123.04"
      ]
     },
     "execution_count": 11,
     "metadata": {},
     "output_type": "execute_result"
    }
   ],
   "source": [
    "#importing the GDP dataset\n",
    "wiki_link = 'https://www.numbeo.com/cost-of-living/rankings.jsp?title=2019'\n",
    "\n",
    "#get the html and convert to parser\n",
    "web_html = requests.get(wiki_link).text\n",
    "soup = BeautifulSoup(web_html, 'html.parser')\n",
    "\n",
    "#the table is under the class wikitable sortable\n",
    "table = soup.find('table', {'class':'stripe row-border order-column compact'})\n",
    "\n",
    "#create blank arrays to hold the data\n",
    "name = []\n",
    "coli = []\n",
    "rent = []\n",
    "groc = []\n",
    "rest = []\n",
    "\n",
    "rows = table.find_all('tr') #find rows with the TR tag\n",
    "\n",
    "for r in rows:\n",
    "    cell = r.find_all('td') #find cells with the TD tag\n",
    "    if (len(cell) > 1):\n",
    "        nam = cell[1] #first element is the name\n",
    "        col = cell[2] #fifth element is the GDP\n",
    "        ren = cell[3]\n",
    "        gro = cell[5]\n",
    "        res = cell[6]\n",
    "        \n",
    "        name.append(nam.text.strip())\n",
    "        coli.append(col.text.strip())\n",
    "        rent.append(ren.text.strip())\n",
    "        groc.append(gro.text.strip())\n",
    "        rest.append(res.text.strip())\n",
    "\n",
    "#define a blank dataframe and populate it with the data read from the page\n",
    "df_indices = pd.DataFrame({'Name':name, \"COL\":coli, \"RENT\":rent, \"GROC\":groc, \"REST\":rest})\n",
    "df_indices.head()"
   ]
  },
  {
   "cell_type": "markdown",
   "metadata": {},
   "source": [
    "Using the <b>split</b> method, the 'Name' column is split into City and Country by using the comma delimiter. The columns that contain the indices data are converted to float values for easier calculation. The columns are also re-arranged for better readability.\n",
    "\n",
    "Since the comma delimiter also splits (Washington, DC) into two strings, we preserve this by adding an if statement. Furthermore, we delete the entry that corresponds to London in Canada to prevent any error in inner joins later."
   ]
  },
  {
   "cell_type": "code",
   "execution_count": 12,
   "metadata": {},
   "outputs": [
    {
     "data": {
      "text/html": [
       "<div>\n",
       "<style scoped>\n",
       "    .dataframe tbody tr th:only-of-type {\n",
       "        vertical-align: middle;\n",
       "    }\n",
       "\n",
       "    .dataframe tbody tr th {\n",
       "        vertical-align: top;\n",
       "    }\n",
       "\n",
       "    .dataframe thead th {\n",
       "        text-align: right;\n",
       "    }\n",
       "</style>\n",
       "<table border=\"1\" class=\"dataframe\">\n",
       "  <thead>\n",
       "    <tr style=\"text-align: right;\">\n",
       "      <th></th>\n",
       "      <th>Name</th>\n",
       "      <th>Country</th>\n",
       "      <th>COL</th>\n",
       "      <th>RENT</th>\n",
       "      <th>GROC</th>\n",
       "      <th>REST</th>\n",
       "    </tr>\n",
       "  </thead>\n",
       "  <tbody>\n",
       "    <tr>\n",
       "      <th>0</th>\n",
       "      <td>Basel</td>\n",
       "      <td>Switzerland</td>\n",
       "      <td>131.37</td>\n",
       "      <td>45.62</td>\n",
       "      <td>127.40</td>\n",
       "      <td>128.41</td>\n",
       "    </tr>\n",
       "    <tr>\n",
       "      <th>1</th>\n",
       "      <td>Zurich</td>\n",
       "      <td>Switzerland</td>\n",
       "      <td>126.87</td>\n",
       "      <td>59.72</td>\n",
       "      <td>128.53</td>\n",
       "      <td>126.15</td>\n",
       "    </tr>\n",
       "    <tr>\n",
       "      <th>2</th>\n",
       "      <td>Lausanne</td>\n",
       "      <td>Switzerland</td>\n",
       "      <td>123.42</td>\n",
       "      <td>48.62</td>\n",
       "      <td>128.21</td>\n",
       "      <td>120.11</td>\n",
       "    </tr>\n",
       "    <tr>\n",
       "      <th>3</th>\n",
       "      <td>Bern</td>\n",
       "      <td>Switzerland</td>\n",
       "      <td>123.17</td>\n",
       "      <td>39.37</td>\n",
       "      <td>122.06</td>\n",
       "      <td>114.49</td>\n",
       "    </tr>\n",
       "    <tr>\n",
       "      <th>4</th>\n",
       "      <td>Geneva</td>\n",
       "      <td>Switzerland</td>\n",
       "      <td>118.87</td>\n",
       "      <td>67.10</td>\n",
       "      <td>116.00</td>\n",
       "      <td>123.04</td>\n",
       "    </tr>\n",
       "  </tbody>\n",
       "</table>\n",
       "</div>"
      ],
      "text/plain": [
       "       Name      Country     COL   RENT    GROC    REST\n",
       "0  Basel     Switzerland  131.37  45.62  127.40  128.41\n",
       "1  Zurich    Switzerland  126.87  59.72  128.53  126.15\n",
       "2  Lausanne  Switzerland  123.42  48.62  128.21  120.11\n",
       "3  Bern      Switzerland  123.17  39.37  122.06  114.49\n",
       "4  Geneva    Switzerland  118.87  67.10  116.00  123.04"
      ]
     },
     "execution_count": 12,
     "metadata": {},
     "output_type": "execute_result"
    }
   ],
   "source": [
    "#Split the Name column to City and country\n",
    "for index, rows in df_indices.iterrows():\n",
    "    city = df_indices.at[index, 'Name'].split(', ')[0]\n",
    "    country = df_indices.at[index, 'Name'].split(', ')[1]\n",
    "    if (city == 'Washington'):\n",
    "        city = 'Washington, D.C.'\n",
    "    df_indices.at[index, 'Name'] = city\n",
    "    df_indices.at[index, 'Country'] = country\n",
    "\n",
    "#Rearrange the columns, convert to float and output the dataframe\n",
    "df_indices = df_indices[['Name', 'Country', 'COL', 'RENT', 'GROC', 'REST']]\n",
    "df_indices[['COL', 'RENT', 'GROC', 'REST']] = df_indices[['COL', 'RENT', 'GROC', 'REST']].astype(float)\n",
    "\n",
    "#Locate London in Canada and remove this from the dataframe\n",
    "london_search = df_indices['Name'] == 'London'\n",
    "canada_search = df_indices['Country'] == 'Canada'\n",
    "lc_search = [not(a and b) for a,b in zip(london_search, canada_search)]\n",
    "df_indices = df_indices[lc_search]\n",
    "\n",
    "df_indices.head()"
   ]
  },
  {
   "cell_type": "code",
   "execution_count": 13,
   "metadata": {},
   "outputs": [
    {
     "name": "stdout",
     "output_type": "stream",
     "text": [
      "The cost indices dataframe has 432 rows and 6 columns\n"
     ]
    }
   ],
   "source": [
    "print('The cost indices dataframe has', df_indices.shape[0], 'rows and', df_indices.shape[1], 'columns')"
   ]
  },
  {
   "cell_type": "markdown",
   "metadata": {},
   "source": [
    "This dataframe is merged with the city data dataframe (df_cities) by using an inner join. We drop the 'Countries' column from the indices table to avoid duplication of data."
   ]
  },
  {
   "cell_type": "code",
   "execution_count": 14,
   "metadata": {},
   "outputs": [
    {
     "data": {
      "text/html": [
       "<div>\n",
       "<style scoped>\n",
       "    .dataframe tbody tr th:only-of-type {\n",
       "        vertical-align: middle;\n",
       "    }\n",
       "\n",
       "    .dataframe tbody tr th {\n",
       "        vertical-align: top;\n",
       "    }\n",
       "\n",
       "    .dataframe thead th {\n",
       "        text-align: right;\n",
       "    }\n",
       "</style>\n",
       "<table border=\"1\" class=\"dataframe\">\n",
       "  <thead>\n",
       "    <tr style=\"text-align: right;\">\n",
       "      <th></th>\n",
       "      <th>Name</th>\n",
       "      <th>Country</th>\n",
       "      <th>Population</th>\n",
       "      <th>Area</th>\n",
       "      <th>Density</th>\n",
       "      <th>GDP_bn</th>\n",
       "      <th>GDP_pc</th>\n",
       "      <th>COL</th>\n",
       "      <th>RENT</th>\n",
       "      <th>GROC</th>\n",
       "      <th>REST</th>\n",
       "    </tr>\n",
       "  </thead>\n",
       "  <tbody>\n",
       "    <tr>\n",
       "      <th>0</th>\n",
       "      <td>Tokyo</td>\n",
       "      <td>Japan</td>\n",
       "      <td>38505000.0</td>\n",
       "      <td>13452.0</td>\n",
       "      <td>2862.399643</td>\n",
       "      <td>1617.0</td>\n",
       "      <td>41994.546163</td>\n",
       "      <td>88.45</td>\n",
       "      <td>37.16</td>\n",
       "      <td>88.87</td>\n",
       "      <td>54.90</td>\n",
       "    </tr>\n",
       "    <tr>\n",
       "      <th>1</th>\n",
       "      <td>Delhi</td>\n",
       "      <td>India</td>\n",
       "      <td>29000000.0</td>\n",
       "      <td>3483.0</td>\n",
       "      <td>8326.155613</td>\n",
       "      <td>293.6</td>\n",
       "      <td>10124.137931</td>\n",
       "      <td>28.00</td>\n",
       "      <td>8.20</td>\n",
       "      <td>25.84</td>\n",
       "      <td>25.88</td>\n",
       "    </tr>\n",
       "    <tr>\n",
       "      <th>2</th>\n",
       "      <td>Shanghai</td>\n",
       "      <td>China</td>\n",
       "      <td>25582000.0</td>\n",
       "      <td>6341.0</td>\n",
       "      <td>4034.379435</td>\n",
       "      <td>594.0</td>\n",
       "      <td>23219.451177</td>\n",
       "      <td>50.29</td>\n",
       "      <td>32.22</td>\n",
       "      <td>54.07</td>\n",
       "      <td>39.71</td>\n",
       "    </tr>\n",
       "    <tr>\n",
       "      <th>3</th>\n",
       "      <td>Mexico City</td>\n",
       "      <td>Mexico</td>\n",
       "      <td>21581000.0</td>\n",
       "      <td>7854.0</td>\n",
       "      <td>2747.771836</td>\n",
       "      <td>403.6</td>\n",
       "      <td>18701.635698</td>\n",
       "      <td>35.30</td>\n",
       "      <td>17.65</td>\n",
       "      <td>32.06</td>\n",
       "      <td>31.33</td>\n",
       "    </tr>\n",
       "    <tr>\n",
       "      <th>4</th>\n",
       "      <td>Cairo</td>\n",
       "      <td>Egypt</td>\n",
       "      <td>20076000.0</td>\n",
       "      <td>3085.0</td>\n",
       "      <td>6507.617504</td>\n",
       "      <td>102.2</td>\n",
       "      <td>5090.655509</td>\n",
       "      <td>27.87</td>\n",
       "      <td>5.78</td>\n",
       "      <td>23.95</td>\n",
       "      <td>25.36</td>\n",
       "    </tr>\n",
       "  </tbody>\n",
       "</table>\n",
       "</div>"
      ],
      "text/plain": [
       "          Name Country  Population     Area      Density  GDP_bn  \\\n",
       "0  Tokyo        Japan   38505000.0  13452.0  2862.399643  1617.0   \n",
       "1  Delhi        India   29000000.0  3483.0   8326.155613  293.6    \n",
       "2  Shanghai     China   25582000.0  6341.0   4034.379435  594.0    \n",
       "3  Mexico City  Mexico  21581000.0  7854.0   2747.771836  403.6    \n",
       "4  Cairo        Egypt   20076000.0  3085.0   6507.617504  102.2    \n",
       "\n",
       "         GDP_pc    COL   RENT   GROC   REST  \n",
       "0  41994.546163  88.45  37.16  88.87  54.90  \n",
       "1  10124.137931  28.00  8.20   25.84  25.88  \n",
       "2  23219.451177  50.29  32.22  54.07  39.71  \n",
       "3  18701.635698  35.30  17.65  32.06  31.33  \n",
       "4  5090.655509   27.87  5.78   23.95  25.36  "
      ]
     },
     "execution_count": 14,
     "metadata": {},
     "output_type": "execute_result"
    }
   ],
   "source": [
    "#merge both dataframes on the city name key\n",
    "df_cities = df_cities.merge(df_indices.drop('Country', axis = 1), how = 'inner', left_on = 'Name', right_on = 'Name')\n",
    "df_cities.head()"
   ]
  },
  {
   "cell_type": "code",
   "execution_count": 15,
   "metadata": {},
   "outputs": [
    {
     "name": "stdout",
     "output_type": "stream",
     "text": [
      "The final City dataframe has 46 rows and  11 columns. The merge operations have led to a loss of 35 rows\n"
     ]
    }
   ],
   "source": [
    "print('The final City dataframe has', df_cities.shape[0], 'rows and ', df_cities.shape[1], 'columns. The merge operations have led to a loss of', citydata.shape[0]-df_cities.shape[0], 'rows')"
   ]
  },
  {
   "cell_type": "markdown",
   "metadata": {},
   "source": [
    "<a id = '3.2'></a>\n",
    "### 3.2 Adding latitude and longitude values to the dataset"
   ]
  },
  {
   "cell_type": "markdown",
   "metadata": {},
   "source": [
    "Now that we have the list of 46 cities that we wish to cluster, latitude and longitude data is required to plot them and obtain venues from the Foursquare API. <b>The Nominatim function from the geopy library is used to get this data.</b> During some initial runs of the code, it was observed that the API request to geocode timed out. The Nominatim terms of use mention that only one search request can be raised per second. Therefore, <b>a sleep of 1 second was added to the iterator after every API call to ensure that the request doesn't time out.</b><br>\n",
    "In order to avoid repetition of the user_agent, a string is added to the search query. I plan to replace it with a random text generator for each iteration."
   ]
  },
  {
   "cell_type": "code",
   "execution_count": 16,
   "metadata": {},
   "outputs": [
    {
     "data": {
      "text/html": [
       "<div>\n",
       "<style scoped>\n",
       "    .dataframe tbody tr th:only-of-type {\n",
       "        vertical-align: middle;\n",
       "    }\n",
       "\n",
       "    .dataframe tbody tr th {\n",
       "        vertical-align: top;\n",
       "    }\n",
       "\n",
       "    .dataframe thead th {\n",
       "        text-align: right;\n",
       "    }\n",
       "</style>\n",
       "<table border=\"1\" class=\"dataframe\">\n",
       "  <thead>\n",
       "    <tr style=\"text-align: right;\">\n",
       "      <th></th>\n",
       "      <th>Name</th>\n",
       "      <th>Country</th>\n",
       "      <th>Population</th>\n",
       "      <th>Area</th>\n",
       "      <th>Density</th>\n",
       "      <th>GDP_bn</th>\n",
       "      <th>GDP_pc</th>\n",
       "      <th>COL</th>\n",
       "      <th>RENT</th>\n",
       "      <th>GROC</th>\n",
       "      <th>REST</th>\n",
       "      <th>Latitude</th>\n",
       "      <th>Longitude</th>\n",
       "    </tr>\n",
       "  </thead>\n",
       "  <tbody>\n",
       "    <tr>\n",
       "      <th>0</th>\n",
       "      <td>Tokyo</td>\n",
       "      <td>Japan</td>\n",
       "      <td>38505000.0</td>\n",
       "      <td>13452.0</td>\n",
       "      <td>2862.399643</td>\n",
       "      <td>1617.0</td>\n",
       "      <td>41994.546163</td>\n",
       "      <td>88.45</td>\n",
       "      <td>37.16</td>\n",
       "      <td>88.87</td>\n",
       "      <td>54.90</td>\n",
       "      <td>35.682839</td>\n",
       "      <td>139.759455</td>\n",
       "    </tr>\n",
       "    <tr>\n",
       "      <th>1</th>\n",
       "      <td>Delhi</td>\n",
       "      <td>India</td>\n",
       "      <td>29000000.0</td>\n",
       "      <td>3483.0</td>\n",
       "      <td>8326.155613</td>\n",
       "      <td>293.6</td>\n",
       "      <td>10124.137931</td>\n",
       "      <td>28.00</td>\n",
       "      <td>8.20</td>\n",
       "      <td>25.84</td>\n",
       "      <td>25.88</td>\n",
       "      <td>28.651718</td>\n",
       "      <td>77.221939</td>\n",
       "    </tr>\n",
       "    <tr>\n",
       "      <th>2</th>\n",
       "      <td>Shanghai</td>\n",
       "      <td>China</td>\n",
       "      <td>25582000.0</td>\n",
       "      <td>6341.0</td>\n",
       "      <td>4034.379435</td>\n",
       "      <td>594.0</td>\n",
       "      <td>23219.451177</td>\n",
       "      <td>50.29</td>\n",
       "      <td>32.22</td>\n",
       "      <td>54.07</td>\n",
       "      <td>39.71</td>\n",
       "      <td>31.232276</td>\n",
       "      <td>121.469207</td>\n",
       "    </tr>\n",
       "    <tr>\n",
       "      <th>3</th>\n",
       "      <td>Mexico City</td>\n",
       "      <td>Mexico</td>\n",
       "      <td>21581000.0</td>\n",
       "      <td>7854.0</td>\n",
       "      <td>2747.771836</td>\n",
       "      <td>403.6</td>\n",
       "      <td>18701.635698</td>\n",
       "      <td>35.30</td>\n",
       "      <td>17.65</td>\n",
       "      <td>32.06</td>\n",
       "      <td>31.33</td>\n",
       "      <td>19.432630</td>\n",
       "      <td>-99.133178</td>\n",
       "    </tr>\n",
       "    <tr>\n",
       "      <th>4</th>\n",
       "      <td>Cairo</td>\n",
       "      <td>Egypt</td>\n",
       "      <td>20076000.0</td>\n",
       "      <td>3085.0</td>\n",
       "      <td>6507.617504</td>\n",
       "      <td>102.2</td>\n",
       "      <td>5090.655509</td>\n",
       "      <td>27.87</td>\n",
       "      <td>5.78</td>\n",
       "      <td>23.95</td>\n",
       "      <td>25.36</td>\n",
       "      <td>30.048819</td>\n",
       "      <td>31.243666</td>\n",
       "    </tr>\n",
       "  </tbody>\n",
       "</table>\n",
       "</div>"
      ],
      "text/plain": [
       "          Name Country  Population     Area      Density  GDP_bn  \\\n",
       "0  Tokyo        Japan   38505000.0  13452.0  2862.399643  1617.0   \n",
       "1  Delhi        India   29000000.0  3483.0   8326.155613  293.6    \n",
       "2  Shanghai     China   25582000.0  6341.0   4034.379435  594.0    \n",
       "3  Mexico City  Mexico  21581000.0  7854.0   2747.771836  403.6    \n",
       "4  Cairo        Egypt   20076000.0  3085.0   6507.617504  102.2    \n",
       "\n",
       "         GDP_pc    COL   RENT   GROC   REST   Latitude   Longitude  \n",
       "0  41994.546163  88.45  37.16  88.87  54.90  35.682839  139.759455  \n",
       "1  10124.137931  28.00  8.20   25.84  25.88  28.651718  77.221939   \n",
       "2  23219.451177  50.29  32.22  54.07  39.71  31.232276  121.469207  \n",
       "3  18701.635698  35.30  17.65  32.06  31.33  19.432630 -99.133178   \n",
       "4  5090.655509   27.87  5.78   23.95  25.36  30.048819  31.243666   "
      ]
     },
     "execution_count": 16,
     "metadata": {},
     "output_type": "execute_result"
    }
   ],
   "source": [
    "# define the latitude and longitude of each city\n",
    "from geopy.geocoders import Nominatim\n",
    "\n",
    "for index, rowdata in df_cities.iterrows():\n",
    "    searchquery = df_cities.at[index, 'Name'] + ',' + df_cities.at[index, 'Country']\n",
    "    geolocator = Nominatim(user_agent = searchquery+'a13')\n",
    "    location = geolocator.geocode(searchquery)\n",
    "    df_cities.at[index, 'Latitude'] = location.latitude\n",
    "    df_cities.at[index, 'Longitude'] = location.longitude\n",
    "    time.sleep(1)\n",
    "\n",
    "df_cities.head()"
   ]
  },
  {
   "cell_type": "code",
   "execution_count": 17,
   "metadata": {},
   "outputs": [
    {
     "name": "stdout",
     "output_type": "stream",
     "text": [
      "The average city radius is = 46.88904906421075 kilometres\n"
     ]
    }
   ],
   "source": [
    "#check the average city radius\n",
    "avg_city_area = df_cities['Area'].mean()\n",
    "avg_city_radius = math.sqrt(avg_city_area/math.pi)\n",
    "print('The average city radius is =', avg_city_radius, 'kilometres')"
   ]
  },
  {
   "cell_type": "markdown",
   "metadata": {},
   "source": [
    "The <b>df_cities</b> dataframe now contains demographic and cordinate data for 46 cities. As a sanity check, let's see if the dataframe contains any NaN or null values and if we were able to encode all the cities."
   ]
  },
  {
   "cell_type": "code",
   "execution_count": 18,
   "metadata": {},
   "outputs": [
    {
     "data": {
      "text/plain": [
       "(0, 0, 46)"
      ]
     },
     "execution_count": 18,
     "metadata": {},
     "output_type": "execute_result"
    }
   ],
   "source": [
    "df_cities.isna().sum().sum(), df_cities.isnull().sum().sum(), df_cities.shape[0]"
   ]
  },
  {
   "cell_type": "markdown",
   "metadata": {},
   "source": [
    "Let's visualize where our 47 cities are located across the globe using a Folium map."
   ]
  },
  {
   "cell_type": "code",
   "execution_count": 69,
   "metadata": {},
   "outputs": [
    {
     "data": {
      "text/html": [
       "<div style=\"width:100%;\"><div style=\"position:relative;width:100%;height:0;padding-bottom:60%;\"><iframe src=\"about:blank\" style=\"position:absolute;width:100%;height:100%;left:0;top:0;border:none !important;\" data-html=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 onload=\"this.contentDocument.open();this.contentDocument.write(atob(this.getAttribute('data-html')));this.contentDocument.close();\" allowfullscreen webkitallowfullscreen mozallowfullscreen></iframe></div></div>"
      ],
      "text/plain": [
       "<folium.folium.Map at 0x25212ff5748>"
      ]
     },
     "execution_count": 69,
     "metadata": {},
     "output_type": "execute_result"
    }
   ],
   "source": [
    "worldmap = folium.Map(location = [0,0], zoom_start = 2)\n",
    "\n",
    "for name, lat, long in zip(df_cities['Name'], df_cities['Latitude'], df_cities['Longitude']):\n",
    "    label = name\n",
    "    label = folium.Popup(label, parse_html = True)\n",
    "    folium.CircleMarker(\n",
    "        [lat, long],\n",
    "        radius = 3,\n",
    "        popup = label,\n",
    "        color = 'crimson',\n",
    "        fill = True,\n",
    "        fill_color = 'crimson',\n",
    "        fill_opacity = 0.7,\n",
    "        parse_html = False).add_to(worldmap)\n",
    "\n",
    "worldmap"
   ]
  },
  {
   "cell_type": "markdown",
   "metadata": {},
   "source": [
    "<a id = '3.3'></a>\n",
    "### 3.3 Querying venues around the city centre using Foursquare API"
   ]
  },
  {
   "cell_type": "markdown",
   "metadata": {},
   "source": [
    "In this section, we use the latitude and longitude data for each city (obtained in section 3.2) to obtain a list of venues within the city, using the Foursquare API. While the average city radius is approximately 45 kilometers, <b>we raise a request to get venues within a radius of 20 kilometers to ensure that we stay within the core city limits. The maximum number of results is also increased to 500 to get a better representation of the type of venues within a city.</b>\n",
    "\n",
    "We define a blank list called <b>venue_list</b> which is appended with city and venue details. Since demographic data and venue data are used separately for clustering, we only pass the city name and its coordinates to venue_list. For each venue, its name, coordinates and category are recorded."
   ]
  },
  {
   "cell_type": "code",
   "execution_count": 20,
   "metadata": {},
   "outputs": [],
   "source": [
    "#querying venues in each city, within a radius of 10km\n",
    "CLIENT_ID = '2V5WZC1SXU1MWC221NSQHMHGQUER3OJUEHT4PIO4YPLRJUCS' \n",
    "CLIENT_SECRET = 'CTZJTPATBDXTP5ZAWB22I2X2LH4FUESVFNG5FHHEOGFZFYIR' \n",
    "VERSION = '20180605' # Foursquare API version\n",
    "LIMIT = 500\n",
    "radius = 20000\n",
    "\n",
    "names = df_cities['Name']\n",
    "countries = df_cities['Country']\n",
    "latitudes = df_cities['Latitude']\n",
    "longitudes = df_cities['Longitude']\n",
    "\n",
    "venue_list = []\n",
    "\n",
    "for name, ctr, lat, long in zip(names, countries, latitudes, longitudes):\n",
    "    \n",
    "    #create the api request\n",
    "    url = 'https://api.foursquare.com/v2/venues/explore?&client_id={}&client_secret={}&v={}&ll={},{}&radius={}&limit={}'.format(\n",
    "        CLIENT_ID, \n",
    "        CLIENT_SECRET, \n",
    "        VERSION, \n",
    "        lat, \n",
    "        long, \n",
    "        radius, \n",
    "        LIMIT)\n",
    "    \n",
    "    #make the get request\n",
    "    results = requests.get(url).json()[\"response\"]['groups'][0]['items']\n",
    "    \n",
    "    for v in results:\n",
    "        venue_list.append([name,\n",
    "                           ctr,\n",
    "                           lat,\n",
    "                           long,\n",
    "                           v['venue']['name'], \n",
    "                           v['venue']['location']['lat'], \n",
    "                           v['venue']['location']['lng'],\n",
    "                           v['venue']['categories'][0]['name']])"
   ]
  },
  {
   "cell_type": "markdown",
   "metadata": {},
   "source": [
    "The resulting list is cast to a dataframe called <b>df_venues</b>. The columns of this dataframe are - City Name, Country, City Latitude, City Longitude, Venue Name, Venue Latitude, Venue Longitude and Venue Category. "
   ]
  },
  {
   "cell_type": "code",
   "execution_count": 21,
   "metadata": {},
   "outputs": [],
   "source": [
    "df_venues = pd.DataFrame(venue_list)\n",
    "columns = ['City', 'Country', 'City Lat', 'City Long', 'Venue Name', 'Venue Lat', 'Venue Long', 'Venue Category']\n",
    "df_venues.columns = columns"
   ]
  },
  {
   "cell_type": "markdown",
   "metadata": {},
   "source": [
    "The 'Venue Category' contains category names as defined by Four Square. This is important categorical data for our analysis. These categories are converted into dummy values, and saved in a new dataframe <b>df_venues_cat</b>. Since country names, venue coordinates and venue names are not relevant to our analysis, these columns are dropped from the dataframe."
   ]
  },
  {
   "cell_type": "code",
   "execution_count": 22,
   "metadata": {},
   "outputs": [],
   "source": [
    "#convert the data to categorical\n",
    "cat_columns = ['Venue Category']\n",
    "df_venues_cat = pd.get_dummies(df_venues, columns = cat_columns)\n",
    "\n",
    "#remove the columns that are not necessary\n",
    "rem_columns = ['Country', 'Venue Lat', 'Venue Long', 'Venue Name']\n",
    "df_venues_cat = df_venues_cat.drop(rem_columns, axis = 1)"
   ]
  },
  {
   "cell_type": "markdown",
   "metadata": {},
   "source": [
    "We now aggregate venue categories for each city. This is done by grouping the table on all keys associated with a city (name and coordinates) and taking the mean value of each category. This data is stored in the dataframe <b>df_grouped</b>."
   ]
  },
  {
   "cell_type": "code",
   "execution_count": 23,
   "metadata": {},
   "outputs": [
    {
     "data": {
      "text/html": [
       "<div>\n",
       "<style scoped>\n",
       "    .dataframe tbody tr th:only-of-type {\n",
       "        vertical-align: middle;\n",
       "    }\n",
       "\n",
       "    .dataframe tbody tr th {\n",
       "        vertical-align: top;\n",
       "    }\n",
       "\n",
       "    .dataframe thead th {\n",
       "        text-align: right;\n",
       "    }\n",
       "</style>\n",
       "<table border=\"1\" class=\"dataframe\">\n",
       "  <thead>\n",
       "    <tr style=\"text-align: right;\">\n",
       "      <th></th>\n",
       "      <th>City</th>\n",
       "      <th>City Lat</th>\n",
       "      <th>City Long</th>\n",
       "      <th>Venue Category_ATM</th>\n",
       "      <th>Venue Category_Accessories Store</th>\n",
       "      <th>Venue Category_Afghan Restaurant</th>\n",
       "      <th>Venue Category_African Restaurant</th>\n",
       "      <th>Venue Category_Airport</th>\n",
       "      <th>Venue Category_Airport Lounge</th>\n",
       "      <th>Venue Category_Airport Service</th>\n",
       "      <th>...</th>\n",
       "      <th>Venue Category_Wine Shop</th>\n",
       "      <th>Venue Category_Wings Joint</th>\n",
       "      <th>Venue Category_Xinjiang Restaurant</th>\n",
       "      <th>Venue Category_Yakitori Restaurant</th>\n",
       "      <th>Venue Category_Yemeni Restaurant</th>\n",
       "      <th>Venue Category_Yoga Studio</th>\n",
       "      <th>Venue Category_Yunnan Restaurant</th>\n",
       "      <th>Venue Category_Zhejiang Restaurant</th>\n",
       "      <th>Venue Category_Zoo</th>\n",
       "      <th>Venue Category_Zoo Exhibit</th>\n",
       "    </tr>\n",
       "  </thead>\n",
       "  <tbody>\n",
       "    <tr>\n",
       "      <th>0</th>\n",
       "      <td>Atlanta</td>\n",
       "      <td>33.749099</td>\n",
       "      <td>-84.390185</td>\n",
       "      <td>0.0</td>\n",
       "      <td>0.0</td>\n",
       "      <td>0.0</td>\n",
       "      <td>0.0</td>\n",
       "      <td>0.00</td>\n",
       "      <td>0.0</td>\n",
       "      <td>0.0</td>\n",
       "      <td>...</td>\n",
       "      <td>0.01</td>\n",
       "      <td>0.0</td>\n",
       "      <td>0.00</td>\n",
       "      <td>0.0</td>\n",
       "      <td>0.0</td>\n",
       "      <td>0.00</td>\n",
       "      <td>0.00</td>\n",
       "      <td>0.00</td>\n",
       "      <td>0.0</td>\n",
       "      <td>0.0</td>\n",
       "    </tr>\n",
       "    <tr>\n",
       "      <th>1</th>\n",
       "      <td>Bangkok</td>\n",
       "      <td>13.754253</td>\n",
       "      <td>100.493087</td>\n",
       "      <td>0.0</td>\n",
       "      <td>0.0</td>\n",
       "      <td>0.0</td>\n",
       "      <td>0.0</td>\n",
       "      <td>0.00</td>\n",
       "      <td>0.0</td>\n",
       "      <td>0.0</td>\n",
       "      <td>...</td>\n",
       "      <td>0.00</td>\n",
       "      <td>0.0</td>\n",
       "      <td>0.00</td>\n",
       "      <td>0.0</td>\n",
       "      <td>0.0</td>\n",
       "      <td>0.00</td>\n",
       "      <td>0.00</td>\n",
       "      <td>0.00</td>\n",
       "      <td>0.0</td>\n",
       "      <td>0.0</td>\n",
       "    </tr>\n",
       "    <tr>\n",
       "      <th>2</th>\n",
       "      <td>Barcelona</td>\n",
       "      <td>41.382894</td>\n",
       "      <td>2.177432</td>\n",
       "      <td>0.0</td>\n",
       "      <td>0.0</td>\n",
       "      <td>0.0</td>\n",
       "      <td>0.0</td>\n",
       "      <td>0.00</td>\n",
       "      <td>0.0</td>\n",
       "      <td>0.0</td>\n",
       "      <td>...</td>\n",
       "      <td>0.01</td>\n",
       "      <td>0.0</td>\n",
       "      <td>0.00</td>\n",
       "      <td>0.0</td>\n",
       "      <td>0.0</td>\n",
       "      <td>0.01</td>\n",
       "      <td>0.00</td>\n",
       "      <td>0.00</td>\n",
       "      <td>0.0</td>\n",
       "      <td>0.0</td>\n",
       "    </tr>\n",
       "    <tr>\n",
       "      <th>3</th>\n",
       "      <td>Beijing</td>\n",
       "      <td>39.906217</td>\n",
       "      <td>116.391276</td>\n",
       "      <td>0.0</td>\n",
       "      <td>0.0</td>\n",
       "      <td>0.0</td>\n",
       "      <td>0.0</td>\n",
       "      <td>0.00</td>\n",
       "      <td>0.0</td>\n",
       "      <td>0.0</td>\n",
       "      <td>...</td>\n",
       "      <td>0.00</td>\n",
       "      <td>0.0</td>\n",
       "      <td>0.01</td>\n",
       "      <td>0.0</td>\n",
       "      <td>0.0</td>\n",
       "      <td>0.00</td>\n",
       "      <td>0.02</td>\n",
       "      <td>0.01</td>\n",
       "      <td>0.0</td>\n",
       "      <td>0.0</td>\n",
       "    </tr>\n",
       "    <tr>\n",
       "      <th>4</th>\n",
       "      <td>Belo Horizonte</td>\n",
       "      <td>-19.922732</td>\n",
       "      <td>-43.945095</td>\n",
       "      <td>0.0</td>\n",
       "      <td>0.0</td>\n",
       "      <td>0.0</td>\n",
       "      <td>0.0</td>\n",
       "      <td>0.01</td>\n",
       "      <td>0.0</td>\n",
       "      <td>0.0</td>\n",
       "      <td>...</td>\n",
       "      <td>0.00</td>\n",
       "      <td>0.0</td>\n",
       "      <td>0.00</td>\n",
       "      <td>0.0</td>\n",
       "      <td>0.0</td>\n",
       "      <td>0.00</td>\n",
       "      <td>0.00</td>\n",
       "      <td>0.00</td>\n",
       "      <td>0.0</td>\n",
       "      <td>0.0</td>\n",
       "    </tr>\n",
       "  </tbody>\n",
       "</table>\n",
       "<p>5 rows × 415 columns</p>\n",
       "</div>"
      ],
      "text/plain": [
       "             City   City Lat   City Long  Venue Category_ATM  \\\n",
       "0  Atlanta         33.749099 -84.390185   0.0                  \n",
       "1  Bangkok         13.754253  100.493087  0.0                  \n",
       "2  Barcelona       41.382894  2.177432    0.0                  \n",
       "3  Beijing         39.906217  116.391276  0.0                  \n",
       "4  Belo Horizonte -19.922732 -43.945095   0.0                  \n",
       "\n",
       "   Venue Category_Accessories Store  Venue Category_Afghan Restaurant  \\\n",
       "0  0.0                               0.0                                \n",
       "1  0.0                               0.0                                \n",
       "2  0.0                               0.0                                \n",
       "3  0.0                               0.0                                \n",
       "4  0.0                               0.0                                \n",
       "\n",
       "   Venue Category_African Restaurant  Venue Category_Airport  \\\n",
       "0  0.0                                0.00                     \n",
       "1  0.0                                0.00                     \n",
       "2  0.0                                0.00                     \n",
       "3  0.0                                0.00                     \n",
       "4  0.0                                0.01                     \n",
       "\n",
       "   Venue Category_Airport Lounge  Venue Category_Airport Service  ...  \\\n",
       "0  0.0                            0.0                             ...   \n",
       "1  0.0                            0.0                             ...   \n",
       "2  0.0                            0.0                             ...   \n",
       "3  0.0                            0.0                             ...   \n",
       "4  0.0                            0.0                             ...   \n",
       "\n",
       "   Venue Category_Wine Shop  Venue Category_Wings Joint  \\\n",
       "0  0.01                      0.0                          \n",
       "1  0.00                      0.0                          \n",
       "2  0.01                      0.0                          \n",
       "3  0.00                      0.0                          \n",
       "4  0.00                      0.0                          \n",
       "\n",
       "   Venue Category_Xinjiang Restaurant  Venue Category_Yakitori Restaurant  \\\n",
       "0  0.00                                0.0                                  \n",
       "1  0.00                                0.0                                  \n",
       "2  0.00                                0.0                                  \n",
       "3  0.01                                0.0                                  \n",
       "4  0.00                                0.0                                  \n",
       "\n",
       "   Venue Category_Yemeni Restaurant  Venue Category_Yoga Studio  \\\n",
       "0  0.0                               0.00                         \n",
       "1  0.0                               0.00                         \n",
       "2  0.0                               0.01                         \n",
       "3  0.0                               0.00                         \n",
       "4  0.0                               0.00                         \n",
       "\n",
       "   Venue Category_Yunnan Restaurant  Venue Category_Zhejiang Restaurant  \\\n",
       "0  0.00                              0.00                                 \n",
       "1  0.00                              0.00                                 \n",
       "2  0.00                              0.00                                 \n",
       "3  0.02                              0.01                                 \n",
       "4  0.00                              0.00                                 \n",
       "\n",
       "   Venue Category_Zoo  Venue Category_Zoo Exhibit  \n",
       "0  0.0                 0.0                         \n",
       "1  0.0                 0.0                         \n",
       "2  0.0                 0.0                         \n",
       "3  0.0                 0.0                         \n",
       "4  0.0                 0.0                         \n",
       "\n",
       "[5 rows x 415 columns]"
      ]
     },
     "execution_count": 23,
     "metadata": {},
     "output_type": "execute_result"
    }
   ],
   "source": [
    "#group the data by country and all other country-specific variables\n",
    "df_grouped = df_venues_cat.groupby(['City','City Lat', 'City Long']).mean().reset_index()\n",
    "df_grouped.head()"
   ]
  },
  {
   "cell_type": "code",
   "execution_count": 24,
   "metadata": {},
   "outputs": [
    {
     "data": {
      "text/plain": [
       "(46, 415)"
      ]
     },
     "execution_count": 24,
     "metadata": {},
     "output_type": "execute_result"
    }
   ],
   "source": [
    "df_grouped.shape"
   ]
  },
  {
   "cell_type": "markdown",
   "metadata": {},
   "source": [
    "In summary, we now have the following two dataframes that contain information about 46 cities.\n",
    "1. <b>df_cities</b> contains demographic information such as population, area, population density, GDP (PPP adjusted, per capita) along with four different cost indices. While we started with 81 data points, this was reduced to 47 because of lack of GDP and/or cost indices data\n",
    "2. <b>df_grouped</b> contains aggregate venue information for venues within a 20km radius from the city centre."
   ]
  },
  {
   "cell_type": "markdown",
   "metadata": {},
   "source": [
    "<a id = '3.4'></a>\n",
    "### 3.4 Exploratory analysis of demographic data"
   ]
  },
  {
   "cell_type": "markdown",
   "metadata": {},
   "source": [
    "<a id = '3.4.1'></a>\n",
    "#### 3.4.1 Column - wise distributions"
   ]
  },
  {
   "cell_type": "markdown",
   "metadata": {},
   "source": [
    "Let's analyse the demographic data stored in the dataframe <b>df_cities</b>"
   ]
  },
  {
   "cell_type": "code",
   "execution_count": 25,
   "metadata": {},
   "outputs": [
    {
     "data": {
      "text/html": [
       "<div>\n",
       "<style scoped>\n",
       "    .dataframe tbody tr th:only-of-type {\n",
       "        vertical-align: middle;\n",
       "    }\n",
       "\n",
       "    .dataframe tbody tr th {\n",
       "        vertical-align: top;\n",
       "    }\n",
       "\n",
       "    .dataframe thead th {\n",
       "        text-align: right;\n",
       "    }\n",
       "</style>\n",
       "<table border=\"1\" class=\"dataframe\">\n",
       "  <thead>\n",
       "    <tr style=\"text-align: right;\">\n",
       "      <th></th>\n",
       "      <th>Name</th>\n",
       "      <th>Country</th>\n",
       "      <th>Population</th>\n",
       "      <th>Area</th>\n",
       "      <th>Density</th>\n",
       "      <th>GDP_bn</th>\n",
       "      <th>GDP_pc</th>\n",
       "      <th>COL</th>\n",
       "      <th>RENT</th>\n",
       "      <th>GROC</th>\n",
       "      <th>REST</th>\n",
       "      <th>Latitude</th>\n",
       "      <th>Longitude</th>\n",
       "    </tr>\n",
       "  </thead>\n",
       "  <tbody>\n",
       "    <tr>\n",
       "      <th>0</th>\n",
       "      <td>Tokyo</td>\n",
       "      <td>Japan</td>\n",
       "      <td>38505000.0</td>\n",
       "      <td>13452.0</td>\n",
       "      <td>2862.399643</td>\n",
       "      <td>1617.0</td>\n",
       "      <td>41994.546163</td>\n",
       "      <td>88.45</td>\n",
       "      <td>37.16</td>\n",
       "      <td>88.87</td>\n",
       "      <td>54.90</td>\n",
       "      <td>35.682839</td>\n",
       "      <td>139.759455</td>\n",
       "    </tr>\n",
       "    <tr>\n",
       "      <th>1</th>\n",
       "      <td>Delhi</td>\n",
       "      <td>India</td>\n",
       "      <td>29000000.0</td>\n",
       "      <td>3483.0</td>\n",
       "      <td>8326.155613</td>\n",
       "      <td>293.6</td>\n",
       "      <td>10124.137931</td>\n",
       "      <td>28.00</td>\n",
       "      <td>8.20</td>\n",
       "      <td>25.84</td>\n",
       "      <td>25.88</td>\n",
       "      <td>28.651718</td>\n",
       "      <td>77.221939</td>\n",
       "    </tr>\n",
       "    <tr>\n",
       "      <th>2</th>\n",
       "      <td>Shanghai</td>\n",
       "      <td>China</td>\n",
       "      <td>25582000.0</td>\n",
       "      <td>6341.0</td>\n",
       "      <td>4034.379435</td>\n",
       "      <td>594.0</td>\n",
       "      <td>23219.451177</td>\n",
       "      <td>50.29</td>\n",
       "      <td>32.22</td>\n",
       "      <td>54.07</td>\n",
       "      <td>39.71</td>\n",
       "      <td>31.232276</td>\n",
       "      <td>121.469207</td>\n",
       "    </tr>\n",
       "    <tr>\n",
       "      <th>3</th>\n",
       "      <td>Mexico City</td>\n",
       "      <td>Mexico</td>\n",
       "      <td>21581000.0</td>\n",
       "      <td>7854.0</td>\n",
       "      <td>2747.771836</td>\n",
       "      <td>403.6</td>\n",
       "      <td>18701.635698</td>\n",
       "      <td>35.30</td>\n",
       "      <td>17.65</td>\n",
       "      <td>32.06</td>\n",
       "      <td>31.33</td>\n",
       "      <td>19.432630</td>\n",
       "      <td>-99.133178</td>\n",
       "    </tr>\n",
       "    <tr>\n",
       "      <th>4</th>\n",
       "      <td>Cairo</td>\n",
       "      <td>Egypt</td>\n",
       "      <td>20076000.0</td>\n",
       "      <td>3085.0</td>\n",
       "      <td>6507.617504</td>\n",
       "      <td>102.2</td>\n",
       "      <td>5090.655509</td>\n",
       "      <td>27.87</td>\n",
       "      <td>5.78</td>\n",
       "      <td>23.95</td>\n",
       "      <td>25.36</td>\n",
       "      <td>30.048819</td>\n",
       "      <td>31.243666</td>\n",
       "    </tr>\n",
       "  </tbody>\n",
       "</table>\n",
       "</div>"
      ],
      "text/plain": [
       "          Name Country  Population     Area      Density  GDP_bn  \\\n",
       "0  Tokyo        Japan   38505000.0  13452.0  2862.399643  1617.0   \n",
       "1  Delhi        India   29000000.0  3483.0   8326.155613  293.6    \n",
       "2  Shanghai     China   25582000.0  6341.0   4034.379435  594.0    \n",
       "3  Mexico City  Mexico  21581000.0  7854.0   2747.771836  403.6    \n",
       "4  Cairo        Egypt   20076000.0  3085.0   6507.617504  102.2    \n",
       "\n",
       "         GDP_pc    COL   RENT   GROC   REST   Latitude   Longitude  \n",
       "0  41994.546163  88.45  37.16  88.87  54.90  35.682839  139.759455  \n",
       "1  10124.137931  28.00  8.20   25.84  25.88  28.651718  77.221939   \n",
       "2  23219.451177  50.29  32.22  54.07  39.71  31.232276  121.469207  \n",
       "3  18701.635698  35.30  17.65  32.06  31.33  19.432630 -99.133178   \n",
       "4  5090.655509   27.87  5.78   23.95  25.36  30.048819  31.243666   "
      ]
     },
     "execution_count": 25,
     "metadata": {},
     "output_type": "execute_result"
    }
   ],
   "source": [
    "df_cities.head()"
   ]
  },
  {
   "cell_type": "markdown",
   "metadata": {},
   "source": [
    "Plotting the density distribution of each of the columns reveals the following insights\n",
    "1. Population and density are mostly concentrated to the lower end of the spectrum. There are some cities with very high population and density, as observed from the declining shape of the histograms.\n",
    "2. The GDP is even more concentrated to values below 1000 bn USD. There are only two cities (Tokyo and New York) that have a GDP more than 1000 bn USD. On the other hand, per capita GDP is much more uniform\n",
    "3. Rent indices are also concentrated below 60% of the NYC value. Only 4 cities - LA, London, Hong Kong and Washington DC lie above this threshold."
   ]
  },
  {
   "cell_type": "code",
   "execution_count": 26,
   "metadata": {},
   "outputs": [
    {
     "data": {
      "text/plain": [
       "Text(0.5, 1.0, 'Rent Index')"
      ]
     },
     "execution_count": 26,
     "metadata": {},
     "output_type": "execute_result"
    },
    {
     "data": {
      "image/png": "[encoded data removed]",
      "text/plain": [
       "<Figure size 1008x504 with 6 Axes>"
      ]
     },
     "metadata": {
      "needs_background": "light"
     },
     "output_type": "display_data"
    }
   ],
   "source": [
    "fig, axs = plt.subplots(2,3, figsize = (14,7))\n",
    "plt.subplots_adjust(wspace = 0.2)\n",
    "\n",
    "axs[0,0].hist(df_cities['Population']/1e6, bins = 15, density = True, facecolor = 'crimson', edgecolor = 'black', linewidth = 1)\n",
    "axs[0,0].set_title('Population, millions', fontsize = 13)\n",
    "\n",
    "axs[1,0].hist(df_cities['Density']/1e3, bins = 15, density = True, facecolor = 'crimson', edgecolor = 'black', linewidth = 1)\n",
    "axs[1,0].set_title('Population density, 1k/sq. km', fontsize = 13)\n",
    "\n",
    "axs[0,1].hist(df_cities['GDP_bn'], bins = 15, density = True, facecolor = 'forestgreen', edgecolor = 'black', linewidth = 1)\n",
    "axs[0,1].set_title('GDP, $ BN', fontsize = 13)\n",
    "\n",
    "axs[1,1].hist(df_cities['GDP_pc']/1e3, bins = 15, density = True, facecolor = 'forestgreen', edgecolor = 'black', linewidth = 1)\n",
    "axs[1,1].set_title('GDP per capita, $ K', fontsize = 13)\n",
    "\n",
    "axs[0,2].hist(df_cities['COL'], bins = 15, density = True, facecolor = 'royalblue', edgecolor = 'black', linewidth = 1)\n",
    "axs[0,2].set_title('Cost of Living Index', fontsize = 13)\n",
    "\n",
    "axs[1,2].hist(df_cities['RENT'], bins = 15, density = True, facecolor = 'royalblue', edgecolor = 'black', linewidth = 1)\n",
    "axs[1,2].set_title('Rent Index', fontsize = 13)"
   ]
  },
  {
   "cell_type": "markdown",
   "metadata": {},
   "source": [
    "<a id = '3.4.2'></a>\n",
    "#### 3.4.2 Correlations between cost and GDP per capita"
   ]
  },
  {
   "cell_type": "markdown",
   "metadata": {},
   "source": [
    "All cost indices show a strong positive correlation with per capita GDP. As expected, rent seems to be the most sensitive - a 1% increase in the per capita GDP of a city leads to a 0.8% increase in the rent on average. Note that since the GDP per capita values range over thousands of USD, and the cost indices can range 0-100, both the X and Y variables were cast to a logarithmic scale using the <b>numpy.log</b> function to reduce the errors in a simple linear regression."
   ]
  },
  {
   "cell_type": "code",
   "execution_count": 27,
   "metadata": {},
   "outputs": [
    {
     "data": {
      "text/plain": [
       "<matplotlib.axes._subplots.AxesSubplot at 0x25210212448>"
      ]
     },
     "execution_count": 27,
     "metadata": {},
     "output_type": "execute_result"
    },
    {
     "data": {
      "image/png": "[encoded data removed]",
      "text/plain": [
       "<Figure size 1224x288 with 4 Axes>"
      ]
     },
     "metadata": {
      "needs_background": "light"
     },
     "output_type": "display_data"
    }
   ],
   "source": [
    "fig, axs = plt.subplots(1,4, figsize = (17,4))\n",
    "plt.subplots_adjust(wspace = 0.3)\n",
    "sns.regplot(x = np.log(df_cities['GDP_pc']), y = np.log(df_cities['COL']), ax = axs[0], color = 'crimson')\n",
    "sns.regplot(x = np.log(df_cities['GDP_pc']), y = np.log(df_cities['RENT']), ax = axs[1], color = 'forestgreen')\n",
    "sns.regplot(x = np.log(df_cities['GDP_pc']), y = np.log(df_cities['GROC']), ax = axs[2], color = 'royalblue')\n",
    "sns.regplot(x = np.log(df_cities['GDP_pc']), y = np.log(df_cities['REST']), ax = axs[3], color = 'orangered')"
   ]
  },
  {
   "cell_type": "code",
   "execution_count": 28,
   "metadata": {},
   "outputs": [
    {
     "data": {
      "text/html": [
       "<div>\n",
       "<style scoped>\n",
       "    .dataframe tbody tr th:only-of-type {\n",
       "        vertical-align: middle;\n",
       "    }\n",
       "\n",
       "    .dataframe tbody tr th {\n",
       "        vertical-align: top;\n",
       "    }\n",
       "\n",
       "    .dataframe thead th {\n",
       "        text-align: right;\n",
       "    }\n",
       "</style>\n",
       "<table border=\"1\" class=\"dataframe\">\n",
       "  <thead>\n",
       "    <tr style=\"text-align: right;\">\n",
       "      <th></th>\n",
       "      <th>Index</th>\n",
       "      <th>Coefficient</th>\n",
       "      <th>R^2</th>\n",
       "    </tr>\n",
       "  </thead>\n",
       "  <tbody>\n",
       "    <tr>\n",
       "      <th>1</th>\n",
       "      <td>Rent</td>\n",
       "      <td>0.871431</td>\n",
       "      <td>0.723006</td>\n",
       "    </tr>\n",
       "    <tr>\n",
       "      <th>3</th>\n",
       "      <td>Restaurants</td>\n",
       "      <td>0.577262</td>\n",
       "      <td>0.789755</td>\n",
       "    </tr>\n",
       "    <tr>\n",
       "      <th>0</th>\n",
       "      <td>Cost of Living</td>\n",
       "      <td>0.461144</td>\n",
       "      <td>0.769275</td>\n",
       "    </tr>\n",
       "    <tr>\n",
       "      <th>2</th>\n",
       "      <td>Groceries</td>\n",
       "      <td>0.456155</td>\n",
       "      <td>0.789755</td>\n",
       "    </tr>\n",
       "  </tbody>\n",
       "</table>\n",
       "</div>"
      ],
      "text/plain": [
       "            Index  Coefficient       R^2\n",
       "1  Rent            0.871431     0.723006\n",
       "3  Restaurants     0.577262     0.789755\n",
       "0  Cost of Living  0.461144     0.769275\n",
       "2  Groceries       0.456155     0.789755"
      ]
     },
     "execution_count": 28,
     "metadata": {},
     "output_type": "execute_result"
    }
   ],
   "source": [
    "from sklearn.linear_model import LinearRegression\n",
    "\n",
    "lm = LinearRegression()\n",
    "lm.fit(np.log(df_cities[['GDP_pc']]), np.log(df_cities[['COL']]))\n",
    "c1 = lm.coef_[0,0]\n",
    "r1 = lm.score(np.log(df_cities[['GDP_pc']]), np.log(df_cities[['COL']]))\n",
    "lm.fit(np.log(df_cities[['GDP_pc']]), np.log(df_cities[['RENT']]))\n",
    "c2 = lm.coef_[0,0]\n",
    "r2 = lm.score(np.log(df_cities[['GDP_pc']]), np.log(df_cities[['RENT']]))\n",
    "lm.fit(np.log(df_cities[['GDP_pc']]), np.log(df_cities[['GROC']]))\n",
    "c3 = lm.coef_[0,0]\n",
    "r3 = lm.score(np.log(df_cities[['GDP_pc']]), np.log(df_cities[['GROC']]))\n",
    "lm.fit(np.log(df_cities[['GDP_pc']]), np.log(df_cities[['REST']]))\n",
    "c4 = lm.coef_[0,0]\n",
    "r4 = lm.score(np.log(df_cities[['GDP_pc']]), np.log(df_cities[['REST']]))\n",
    "\n",
    "data = {'Index':['Cost of Living', 'Rent', 'Groceries', 'Restaurants'], 'Coefficient':[c1, c2, c3, c4], 'R^2':[r1, r2, r4, r4]}\n",
    "pd.DataFrame(data).sort_values('Coefficient', ascending = False)"
   ]
  },
  {
   "cell_type": "markdown",
   "metadata": {},
   "source": [
    "<a id = '3.4.3'></a>\n",
    "#### 3.4.3 Correlations between cost and population density"
   ]
  },
  {
   "cell_type": "code",
   "execution_count": 29,
   "metadata": {},
   "outputs": [
    {
     "data": {
      "text/plain": [
       "<matplotlib.axes._subplots.AxesSubplot at 0x252103ad148>"
      ]
     },
     "execution_count": 29,
     "metadata": {},
     "output_type": "execute_result"
    },
    {
     "data": {
      "image/png": "[encoded data removed]",
      "text/plain": [
       "<Figure size 1224x288 with 4 Axes>"
      ]
     },
     "metadata": {
      "needs_background": "light"
     },
     "output_type": "display_data"
    }
   ],
   "source": [
    "fig, axs = plt.subplots(1,4, figsize = (17,4))\n",
    "plt.subplots_adjust(wspace = 0.3)\n",
    "sns.regplot(x = np.log(df_cities['Density']), y = np.log(df_cities['COL']), ax = axs[0], color = 'crimson')\n",
    "sns.regplot(x = np.log(df_cities['Density']), y = np.log(df_cities['RENT']), ax = axs[1], color = 'forestgreen')\n",
    "sns.regplot(x = np.log(df_cities['Density']), y = np.log(df_cities['GROC']), ax = axs[2], color = 'royalblue')\n",
    "sns.regplot(x = np.log(df_cities['Density']), y = np.log(df_cities['REST']), ax = axs[3], color = 'orangered')"
   ]
  },
  {
   "cell_type": "code",
   "execution_count": 30,
   "metadata": {},
   "outputs": [
    {
     "data": {
      "text/html": [
       "<div>\n",
       "<style scoped>\n",
       "    .dataframe tbody tr th:only-of-type {\n",
       "        vertical-align: middle;\n",
       "    }\n",
       "\n",
       "    .dataframe tbody tr th {\n",
       "        vertical-align: top;\n",
       "    }\n",
       "\n",
       "    .dataframe thead th {\n",
       "        text-align: right;\n",
       "    }\n",
       "</style>\n",
       "<table border=\"1\" class=\"dataframe\">\n",
       "  <thead>\n",
       "    <tr style=\"text-align: right;\">\n",
       "      <th></th>\n",
       "      <th>Index</th>\n",
       "      <th>Coefficient</th>\n",
       "      <th>R^2</th>\n",
       "    </tr>\n",
       "  </thead>\n",
       "  <tbody>\n",
       "    <tr>\n",
       "      <th>0</th>\n",
       "      <td>Cost of Living</td>\n",
       "      <td>-0.158952</td>\n",
       "      <td>0.166108</td>\n",
       "    </tr>\n",
       "    <tr>\n",
       "      <th>2</th>\n",
       "      <td>Groceries</td>\n",
       "      <td>-0.161414</td>\n",
       "      <td>0.225821</td>\n",
       "    </tr>\n",
       "    <tr>\n",
       "      <th>3</th>\n",
       "      <td>Restaurants</td>\n",
       "      <td>-0.228973</td>\n",
       "      <td>0.225821</td>\n",
       "    </tr>\n",
       "    <tr>\n",
       "      <th>1</th>\n",
       "      <td>Rent</td>\n",
       "      <td>-0.275501</td>\n",
       "      <td>0.131331</td>\n",
       "    </tr>\n",
       "  </tbody>\n",
       "</table>\n",
       "</div>"
      ],
      "text/plain": [
       "            Index  Coefficient       R^2\n",
       "0  Cost of Living -0.158952     0.166108\n",
       "2  Groceries      -0.161414     0.225821\n",
       "3  Restaurants    -0.228973     0.225821\n",
       "1  Rent           -0.275501     0.131331"
      ]
     },
     "execution_count": 30,
     "metadata": {},
     "output_type": "execute_result"
    }
   ],
   "source": [
    "from sklearn.linear_model import LinearRegression\n",
    "\n",
    "lm = LinearRegression()\n",
    "lm.fit(np.log(df_cities[['Density']]), np.log(df_cities[['COL']]))\n",
    "c1 = lm.coef_[0,0]\n",
    "r1 = lm.score(np.log(df_cities[['Density']]), np.log(df_cities[['COL']]))\n",
    "lm.fit(np.log(df_cities[['Density']]), np.log(df_cities[['RENT']]))\n",
    "c2 = lm.coef_[0,0]\n",
    "r2 = lm.score(np.log(df_cities[['Density']]), np.log(df_cities[['RENT']]))\n",
    "lm.fit(np.log(df_cities[['Density']]), np.log(df_cities[['GROC']]))\n",
    "c3 = lm.coef_[0,0]\n",
    "r3 = lm.score(np.log(df_cities[['Density']]), np.log(df_cities[['GROC']]))\n",
    "lm.fit(np.log(df_cities[['Density']]), np.log(df_cities[['REST']]))\n",
    "c4 = lm.coef_[0,0]\n",
    "r4 = lm.score(np.log(df_cities[['Density']]), np.log(df_cities[['REST']]))\n",
    "\n",
    "data = {'Index':['Cost of Living', 'Rent', 'Groceries', 'Restaurants'], 'Coefficient':[c1, c2, c3, c4], 'R^2':[r1, r2, r4, r4]}\n",
    "pd.DataFrame(data).sort_values('Coefficient', ascending = False)"
   ]
  },
  {
   "cell_type": "markdown",
   "metadata": {},
   "source": [
    "<a id = '3.4.4'></a>\n",
    "#### 3.4.4 Correlations between density and GDP"
   ]
  },
  {
   "cell_type": "code",
   "execution_count": 31,
   "metadata": {},
   "outputs": [
    {
     "data": {
      "text/plain": [
       "<matplotlib.axes._subplots.AxesSubplot at 0x252106d3248>"
      ]
     },
     "execution_count": 31,
     "metadata": {},
     "output_type": "execute_result"
    },
    {
     "data": {
      "image/png": "[encoded data removed]",
      "text/plain": [
       "<Figure size 720x288 with 2 Axes>"
      ]
     },
     "metadata": {
      "needs_background": "light"
     },
     "output_type": "display_data"
    }
   ],
   "source": [
    "ig, axs = plt.subplots(1,2, figsize = (10,4))\n",
    "plt.subplots_adjust(wspace = 0.3)\n",
    "sns.regplot(x = np.log(df_cities['Density']), y = np.log(df_cities['GDP_bn']), ax = axs[0], color = 'crimson')\n",
    "sns.regplot(x = np.log(df_cities['Density']), y = np.log(df_cities['GDP_pc']), ax = axs[1], color = 'forestgreen')"
   ]
  },
  {
   "cell_type": "code",
   "execution_count": 32,
   "metadata": {},
   "outputs": [
    {
     "data": {
      "text/html": [
       "<div>\n",
       "<style scoped>\n",
       "    .dataframe tbody tr th:only-of-type {\n",
       "        vertical-align: middle;\n",
       "    }\n",
       "\n",
       "    .dataframe tbody tr th {\n",
       "        vertical-align: top;\n",
       "    }\n",
       "\n",
       "    .dataframe thead th {\n",
       "        text-align: right;\n",
       "    }\n",
       "</style>\n",
       "<table border=\"1\" class=\"dataframe\">\n",
       "  <thead>\n",
       "    <tr style=\"text-align: right;\">\n",
       "      <th></th>\n",
       "      <th>GDP measure</th>\n",
       "      <th>Coefficient</th>\n",
       "      <th>R^2</th>\n",
       "    </tr>\n",
       "  </thead>\n",
       "  <tbody>\n",
       "    <tr>\n",
       "      <th>0</th>\n",
       "      <td>Total</td>\n",
       "      <td>-0.186048</td>\n",
       "      <td>0.055519</td>\n",
       "    </tr>\n",
       "    <tr>\n",
       "      <th>1</th>\n",
       "      <td>Per Capita</td>\n",
       "      <td>-0.312725</td>\n",
       "      <td>0.177735</td>\n",
       "    </tr>\n",
       "  </tbody>\n",
       "</table>\n",
       "</div>"
      ],
      "text/plain": [
       "  GDP measure  Coefficient       R^2\n",
       "0  Total      -0.186048     0.055519\n",
       "1  Per Capita -0.312725     0.177735"
      ]
     },
     "execution_count": 32,
     "metadata": {},
     "output_type": "execute_result"
    }
   ],
   "source": [
    "from sklearn.linear_model import LinearRegression\n",
    "\n",
    "lm = LinearRegression()\n",
    "lm.fit(np.log(df_cities[['Density']]), np.log(df_cities[['GDP_bn']]))\n",
    "c1 = lm.coef_[0,0]\n",
    "r1 = lm.score(np.log(df_cities[['Density']]), np.log(df_cities[['GDP_bn']]))\n",
    "\n",
    "lm.fit(np.log(df_cities[['Density']]), np.log(df_cities[['GDP_pc']]))\n",
    "c2 = lm.coef_[0,0]\n",
    "r2 = lm.score(np.log(df_cities[['Density']]), np.log(df_cities[['GDP_pc']]))\n",
    "\n",
    "data = {'GDP measure':['Total', 'Per Capita'], 'Coefficient':[c1, c2], 'R^2':[r1, r2]}\n",
    "pd.DataFrame(data).sort_values('Coefficient', ascending = False)"
   ]
  },
  {
   "cell_type": "markdown",
   "metadata": {},
   "source": [
    "<a id = '3.4.5'></a>\n",
    "#### 3.4.5 Correlations between area and other demographic variables"
   ]
  },
  {
   "cell_type": "code",
   "execution_count": 33,
   "metadata": {},
   "outputs": [
    {
     "data": {
      "text/plain": [
       "<matplotlib.axes._subplots.AxesSubplot at 0x25210950188>"
      ]
     },
     "execution_count": 33,
     "metadata": {},
     "output_type": "execute_result"
    },
    {
     "data": {
      "image/png": "[encoded data removed]",
      "text/plain": [
       "<Figure size 1224x288 with 4 Axes>"
      ]
     },
     "metadata": {
      "needs_background": "light"
     },
     "output_type": "display_data"
    }
   ],
   "source": [
    "fig, axs = plt.subplots(1,4, figsize = (17,4))\n",
    "plt.subplots_adjust(wspace = 0.3)\n",
    "sns.regplot(x = np.log(df_cities['Area']), y = np.log(df_cities['Population']), ax = axs[0], color = 'crimson')\n",
    "sns.regplot(x = np.log(df_cities['Area']), y = np.log(df_cities['GDP_bn']), ax = axs[1], color = 'forestgreen')\n",
    "sns.regplot(x = np.log(df_cities['Area']), y = np.log(df_cities['GDP_pc']), ax = axs[2], color = 'royalblue')\n",
    "sns.regplot(x = np.log(df_cities['Area']), y = np.log(df_cities['COL']), ax = axs[3], color = 'orangered')"
   ]
  },
  {
   "cell_type": "code",
   "execution_count": 34,
   "metadata": {},
   "outputs": [
    {
     "data": {
      "text/html": [
       "<div>\n",
       "<style scoped>\n",
       "    .dataframe tbody tr th:only-of-type {\n",
       "        vertical-align: middle;\n",
       "    }\n",
       "\n",
       "    .dataframe tbody tr th {\n",
       "        vertical-align: top;\n",
       "    }\n",
       "\n",
       "    .dataframe thead th {\n",
       "        text-align: right;\n",
       "    }\n",
       "</style>\n",
       "<table border=\"1\" class=\"dataframe\">\n",
       "  <thead>\n",
       "    <tr style=\"text-align: right;\">\n",
       "      <th></th>\n",
       "      <th>Parameter</th>\n",
       "      <th>Coefficient</th>\n",
       "      <th>R^2</th>\n",
       "    </tr>\n",
       "  </thead>\n",
       "  <tbody>\n",
       "    <tr>\n",
       "      <th>1</th>\n",
       "      <td>GDP, Total</td>\n",
       "      <td>0.352221</td>\n",
       "      <td>0.202869</td>\n",
       "    </tr>\n",
       "    <tr>\n",
       "      <th>2</th>\n",
       "      <td>GDP, per capita</td>\n",
       "      <td>0.208824</td>\n",
       "      <td>0.106558</td>\n",
       "    </tr>\n",
       "    <tr>\n",
       "      <th>0</th>\n",
       "      <td>Population</td>\n",
       "      <td>0.143397</td>\n",
       "      <td>0.076827</td>\n",
       "    </tr>\n",
       "    <tr>\n",
       "      <th>3</th>\n",
       "      <td>Cost of Living</td>\n",
       "      <td>0.126086</td>\n",
       "      <td>0.106558</td>\n",
       "    </tr>\n",
       "  </tbody>\n",
       "</table>\n",
       "</div>"
      ],
      "text/plain": [
       "         Parameter  Coefficient       R^2\n",
       "1  GDP, Total       0.352221     0.202869\n",
       "2  GDP, per capita  0.208824     0.106558\n",
       "0  Population       0.143397     0.076827\n",
       "3  Cost of Living   0.126086     0.106558"
      ]
     },
     "execution_count": 34,
     "metadata": {},
     "output_type": "execute_result"
    }
   ],
   "source": [
    "from sklearn.linear_model import LinearRegression\n",
    "\n",
    "lm = LinearRegression()\n",
    "lm.fit(np.log(df_cities[['Area']]), np.log(df_cities[['Population']]))\n",
    "c1 = lm.coef_[0,0]\n",
    "r1 = lm.score(np.log(df_cities[['Area']]), np.log(df_cities[['Population']]))\n",
    "\n",
    "lm.fit(np.log(df_cities[['Area']]), np.log(df_cities[['GDP_bn']]))\n",
    "c2 = lm.coef_[0,0]\n",
    "r2 = lm.score(np.log(df_cities[['Area']]), np.log(df_cities[['GDP_bn']]))\n",
    "\n",
    "lm.fit(np.log(df_cities[['Area']]), np.log(df_cities[['GDP_pc']]))\n",
    "c3 = lm.coef_[0,0]\n",
    "r3 = lm.score(np.log(df_cities[['Area']]), np.log(df_cities[['GDP_pc']]))\n",
    "\n",
    "lm.fit(np.log(df_cities[['Area']]), np.log(df_cities[['COL']]))\n",
    "c4 = lm.coef_[0,0]\n",
    "r4 = lm.score(np.log(df_cities[['Area']]), np.log(df_cities[['COL']]))\n",
    "\n",
    "data = {'Parameter':['Population', 'GDP, Total', 'GDP, per capita', 'Cost of Living'], 'Coefficient':[c1, c2, c3, c4], 'R^2':[r1, r2, r4, r4]}\n",
    "pd.DataFrame(data).sort_values('Coefficient', ascending = False)"
   ]
  },
  {
   "attachments": {},
   "cell_type": "markdown",
   "metadata": {},
   "source": [
    "<a id = '4'></a>\n",
    "## 4. Clustering the cities"
   ]
  },
  {
   "cell_type": "markdown",
   "metadata": {},
   "source": [
    "Now that we have both the datasets ready, we begin clustering the countries. "
   ]
  },
  {
   "cell_type": "markdown",
   "metadata": {},
   "source": [
    " <a id = '4.1'></a>\n",
    "### 4.1 Clustering using demographic variables"
   ]
  },
  {
   "cell_type": "markdown",
   "metadata": {},
   "source": [
    "The input to the k means model is defined by taking the numeric columns from the dataframe <b>df_cities</b>. Using the standard scaler, this is then transformed to a z-values matrix and provided as an input to the k-means clustering method, which then sorts the data into five clusters. We then check the number of countries that have been classified into each cluster. Using the coordinate data, we then plot a color-coded map to show the location of the cities and their clusters. The resulting labels are stored in the dataframe <b>df_results</b>."
   ]
  },
  {
   "cell_type": "code",
   "execution_count": 55,
   "metadata": {},
   "outputs": [
    {
     "data": {
      "text/plain": [
       "0    21\n",
       "2    8 \n",
       "1    8 \n",
       "4    6 \n",
       "3    3 \n",
       "Name: Labels_A, dtype: int64"
      ]
     },
     "execution_count": 55,
     "metadata": {},
     "output_type": "execute_result"
    }
   ],
   "source": [
    "df_results = df_cities.copy()\n",
    "\n",
    "#Define the x matrix\n",
    "x_col = ['Population', 'Area', 'Density', 'GDP_bn', 'GDP_pc', 'COL', 'RENT', 'GROC', 'REST']\n",
    "x = df_cities[x_col]\n",
    "\n",
    "#Scale the data\n",
    "from sklearn.preprocessing import StandardScaler\n",
    "x = StandardScaler().fit_transform(x)\n",
    "\n",
    "#Fit the data to the model\n",
    "num_clusters = 5\n",
    "k_means = KMeans(n_clusters = num_clusters, init = 'k-means++', n_init = 500, max_iter = 500)\n",
    "k_means.fit(x)\n",
    "labels = k_means.labels_\n",
    "df_results['Labels_A'] = labels\n",
    "df_results['Labels_A'].value_counts()"
   ]
  },
  {
   "cell_type": "code",
   "execution_count": 56,
   "metadata": {},
   "outputs": [
    {
     "data": {
      "text/html": [
       "<div style=\"width:100%;\"><div style=\"position:relative;width:100%;height:0;padding-bottom:60%;\"><iframe src=\"about:blank\" style=\"position:absolute;width:100%;height:100%;left:0;top:0;border:none !important;\" data-html=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 onload=\"this.contentDocument.open();this.contentDocument.write(atob(this.getAttribute('data-html')));this.contentDocument.close();\" allowfullscreen webkitallowfullscreen mozallowfullscreen></iframe></div></div>"
      ],
      "text/plain": [
       "<folium.folium.Map at 0x25212b0dd08>"
      ]
     },
     "execution_count": 56,
     "metadata": {},
     "output_type": "execute_result"
    }
   ],
   "source": [
    "#Plotting the results on the map\n",
    "worldmap = folium.Map(location=[0,0], zoom_start = 2)\n",
    "colors = ['crimson', 'forestgreen', 'royalblue', 'orangered', 'gray']\n",
    "\n",
    "for ct, cnt, lat, long, cls in zip(df_results['Name'], df_results['Country'], df_results['Latitude'], df_results['Longitude'], df_results['Labels_A']):\n",
    "    label = str(ct) + ',' + cnt + ',' + 'Cluster' + str(cls)\n",
    "    label = folium.Popup(label, parse_html = True)\n",
    "    folium.CircleMarker(\n",
    "        [lat, long],\n",
    "        radius = 4,\n",
    "        popup = label,\n",
    "        color = colors[cls],\n",
    "        fill = True,\n",
    "        fill_color = colors[cls],\n",
    "        fill_opacity = 0.7,\n",
    "        parse_html = False).add_to(worldmap)\n",
    "\n",
    "worldmap"
   ]
  },
  {
   "cell_type": "markdown",
   "metadata": {},
   "source": [
    "We now need to understand the characteristics of each cluster. In order to do so, we group the <b>df_results</b> dataframe by the cluster numbers, and return the mean value of each column. Furthermore, I have written a code that loops through the results dataframe, and generates a string that contains the names of the cities that lie in each cluster. This is then passed as a new column to the output dataframe <b>df_resultsA</b> which now stores the summary of clusters according to demographic clustering."
   ]
  },
  {
   "cell_type": "code",
   "execution_count": 57,
   "metadata": {},
   "outputs": [
    {
     "data": {
      "text/html": [
       "<div>\n",
       "<style scoped>\n",
       "    .dataframe tbody tr th:only-of-type {\n",
       "        vertical-align: middle;\n",
       "    }\n",
       "\n",
       "    .dataframe tbody tr th {\n",
       "        vertical-align: top;\n",
       "    }\n",
       "\n",
       "    .dataframe thead th {\n",
       "        text-align: right;\n",
       "    }\n",
       "</style>\n",
       "<table border=\"1\" class=\"dataframe\">\n",
       "  <thead>\n",
       "    <tr style=\"text-align: right;\">\n",
       "      <th></th>\n",
       "      <th>Labels_A</th>\n",
       "      <th>Population</th>\n",
       "      <th>Area</th>\n",
       "      <th>Density</th>\n",
       "      <th>GDP_bn</th>\n",
       "      <th>GDP_pc</th>\n",
       "      <th>COL</th>\n",
       "      <th>RENT</th>\n",
       "      <th>GROC</th>\n",
       "      <th>REST</th>\n",
       "      <th>Cities</th>\n",
       "      <th>Color</th>\n",
       "    </tr>\n",
       "  </thead>\n",
       "  <tbody>\n",
       "    <tr>\n",
       "      <th>0</th>\n",
       "      <td>0</td>\n",
       "      <td>14322316.1</td>\n",
       "      <td>6464.5</td>\n",
       "      <td>2936.7</td>\n",
       "      <td>266.4</td>\n",
       "      <td>18480.8</td>\n",
       "      <td>41.6</td>\n",
       "      <td>17.1</td>\n",
       "      <td>37.9</td>\n",
       "      <td>32.7</td>\n",
       "      <td>Shanghai, Mexico City, Beijing, Buenos Aires, Istanbul, Rio de Janeiro, Guangzhou, Moscow, Shenzhen, Jakarta, Lima, Bangkok, Chengdu, Ho Chi Minh City, Kuala Lumpur, Riyadh, Santiago, Pune, Belo Horizonte, Johannesburg, Guadalajara,</td>\n",
       "      <td>crimson</td>\n",
       "    </tr>\n",
       "    <tr>\n",
       "      <th>1</th>\n",
       "      <td>1</td>\n",
       "      <td>8088271.5</td>\n",
       "      <td>1890.4</td>\n",
       "      <td>6862.6</td>\n",
       "      <td>423.6</td>\n",
       "      <td>50600.3</td>\n",
       "      <td>74.4</td>\n",
       "      <td>50.4</td>\n",
       "      <td>66.6</td>\n",
       "      <td>68.3</td>\n",
       "      <td>Paris, London, Hong Kong, Madrid, Toronto, Singapore, Philadelphia, Barcelona,</td>\n",
       "      <td>forestgreen</td>\n",
       "    </tr>\n",
       "    <tr>\n",
       "      <th>2</th>\n",
       "      <td>2</td>\n",
       "      <td>17557500.0</td>\n",
       "      <td>2149.1</td>\n",
       "      <td>10051.3</td>\n",
       "      <td>129.8</td>\n",
       "      <td>7175.8</td>\n",
       "      <td>27.6</td>\n",
       "      <td>9.2</td>\n",
       "      <td>26.3</td>\n",
       "      <td>21.8</td>\n",
       "      <td>Delhi, Cairo, Mumbai, Kolkata, Manila, Chennai, Hyderabad, Surat,</td>\n",
       "      <td>royalblue</td>\n",
       "    </tr>\n",
       "    <tr>\n",
       "      <th>3</th>\n",
       "      <td>3</td>\n",
       "      <td>28354666.7</td>\n",
       "      <td>14157.0</td>\n",
       "      <td>2085.9</td>\n",
       "      <td>1288.6</td>\n",
       "      <td>47271.9</td>\n",
       "      <td>90.4</td>\n",
       "      <td>55.2</td>\n",
       "      <td>95.4</td>\n",
       "      <td>68.9</td>\n",
       "      <td>Tokyo, New York, Seoul,</td>\n",
       "      <td>orangered</td>\n",
       "    </tr>\n",
       "    <tr>\n",
       "      <th>4</th>\n",
       "      <td>4</td>\n",
       "      <td>8593312.5</td>\n",
       "      <td>17863.8</td>\n",
       "      <td>528.3</td>\n",
       "      <td>484.4</td>\n",
       "      <td>55842.4</td>\n",
       "      <td>77.4</td>\n",
       "      <td>56.1</td>\n",
       "      <td>75.2</td>\n",
       "      <td>80.5</td>\n",
       "      <td>Los Angeles, Chicago, Houston, Miami, Atlanta, Washington, D.C.,</td>\n",
       "      <td>gray</td>\n",
       "    </tr>\n",
       "  </tbody>\n",
       "</table>\n",
       "</div>"
      ],
      "text/plain": [
       "   Labels_A  Population     Area  Density  GDP_bn   GDP_pc   COL  RENT  GROC  \\\n",
       "0  0         14322316.1  6464.5   2936.7   266.4   18480.8  41.6  17.1  37.9   \n",
       "1  1         8088271.5   1890.4   6862.6   423.6   50600.3  74.4  50.4  66.6   \n",
       "2  2         17557500.0  2149.1   10051.3  129.8   7175.8   27.6  9.2   26.3   \n",
       "3  3         28354666.7  14157.0  2085.9   1288.6  47271.9  90.4  55.2  95.4   \n",
       "4  4         8593312.5   17863.8  528.3    484.4   55842.4  77.4  56.1  75.2   \n",
       "\n",
       "   REST  \\\n",
       "0  32.7   \n",
       "1  68.3   \n",
       "2  21.8   \n",
       "3  68.9   \n",
       "4  80.5   \n",
       "\n",
       "                                                                                                                                                                                                                                      Cities  \\\n",
       "0  Shanghai, Mexico City, Beijing, Buenos Aires, Istanbul, Rio de Janeiro, Guangzhou, Moscow, Shenzhen, Jakarta, Lima, Bangkok, Chengdu, Ho Chi Minh City, Kuala Lumpur, Riyadh, Santiago, Pune, Belo Horizonte, Johannesburg, Guadalajara,    \n",
       "1  Paris, London, Hong Kong, Madrid, Toronto, Singapore, Philadelphia, Barcelona,                                                                                                                                                              \n",
       "2  Delhi, Cairo, Mumbai, Kolkata, Manila, Chennai, Hyderabad, Surat,                                                                                                                                                                           \n",
       "3  Tokyo, New York, Seoul,                                                                                                                                                                                                                     \n",
       "4  Los Angeles, Chicago, Houston, Miami, Atlanta, Washington, D.C.,                                                                                                                                                                            \n",
       "\n",
       "         Color  \n",
       "0  crimson      \n",
       "1  forestgreen  \n",
       "2  royalblue    \n",
       "3  orangered    \n",
       "4  gray         "
      ]
     },
     "execution_count": 57,
     "metadata": {},
     "output_type": "execute_result"
    }
   ],
   "source": [
    "#create a list to store names of all countries in a cluster\n",
    "city_list = ['', '', '', '', '']\n",
    "\n",
    "#populate the list with the city names\n",
    "for index, rows in df_results.iterrows():\n",
    "    clusternum = df_results.at[index, 'Labels_A']\n",
    "    city_list[clusternum] = city_list[clusternum] + df_results.at[index, 'Name'] + ', '\n",
    "\n",
    "#create the output dataframe and add cities and color columns to it\n",
    "df_resultsA = df_results.groupby('Labels_A').mean()\n",
    "df_resultsA['Cities'] = city_list\n",
    "df_resultsA['Color'] = colors\n",
    "df_resultsA.drop(['Latitude', 'Longitude'], axis=1, inplace = True)\n",
    "df_resultsA = df_resultsA.reset_index(drop=False).round(1)\n",
    "df_resultsA"
   ]
  },
  {
   "cell_type": "markdown",
   "metadata": {
    "scrolled": true
   },
   "source": [
    "#### Part 4b: Clustering by using only location/venue data"
   ]
  },
  {
   "cell_type": "code",
   "execution_count": 58,
   "metadata": {},
   "outputs": [
    {
     "data": {
      "text/plain": [
       "2    17\n",
       "0    12\n",
       "1    8 \n",
       "3    7 \n",
       "4    2 \n",
       "Name: Labels_B, dtype: int64"
      ]
     },
     "execution_count": 58,
     "metadata": {},
     "output_type": "execute_result"
    }
   ],
   "source": [
    "#Define the x matrix\n",
    "x_col = ['City', 'City Lat', 'City Long']\n",
    "x = df_grouped.drop(x_col, axis = 1)\n",
    "\n",
    "#Fit the data to the model\n",
    "num_clusters = 5\n",
    "k_means = KMeans(n_clusters = num_clusters, init = 'k-means++', n_init = 500, max_iter = 500)\n",
    "k_means.fit(x)\n",
    "labels = k_means.labels_\n",
    "\n",
    "df_grouped['Labels_B'] = labels\n",
    "df_grouped['Labels_B'].value_counts()"
   ]
  },
  {
   "cell_type": "code",
   "execution_count": 59,
   "metadata": {
    "scrolled": false
   },
   "outputs": [
    {
     "data": {
      "text/html": [
       "<div style=\"width:100%;\"><div style=\"position:relative;width:100%;height:0;padding-bottom:60%;\"><iframe src=\"about:blank\" style=\"position:absolute;width:100%;height:100%;left:0;top:0;border:none !important;\" data-html=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 onload=\"this.contentDocument.open();this.contentDocument.write(atob(this.getAttribute('data-html')));this.contentDocument.close();\" allowfullscreen webkitallowfullscreen mozallowfullscreen></iframe></div></div>"
      ],
      "text/plain": [
       "<folium.folium.Map at 0x25212c132c8>"
      ]
     },
     "execution_count": 59,
     "metadata": {},
     "output_type": "execute_result"
    }
   ],
   "source": [
    "#Plotting the results on the map\n",
    "worldmap = folium.Map(location=[0,0], zoom_start = 2)\n",
    "colors = ['crimson', 'forestgreen', 'royalblue', 'orangered', 'gray']\n",
    "\n",
    "for ct, lat, long, cls in zip(df_grouped['City'], df_grouped['City Lat'], df_grouped['City Long'], df_grouped['Labels_B']):\n",
    "    label = str(ct) + ', Cluster ' + str(cls)\n",
    "    label = folium.Popup(label, parse_html = True)\n",
    "    folium.CircleMarker(\n",
    "        [lat, long],\n",
    "        radius = 4,\n",
    "        popup = label,\n",
    "        color = colors[cls],\n",
    "        fill = True,\n",
    "        fill_color = colors[cls],\n",
    "        fill_opacity = 0.7,\n",
    "        parse_html = False).add_to(worldmap)\n",
    "\n",
    "worldmap"
   ]
  },
  {
   "cell_type": "code",
   "execution_count": 64,
   "metadata": {},
   "outputs": [
    {
     "data": {
      "text/html": [
       "<div>\n",
       "<style scoped>\n",
       "    .dataframe tbody tr th:only-of-type {\n",
       "        vertical-align: middle;\n",
       "    }\n",
       "\n",
       "    .dataframe tbody tr th {\n",
       "        vertical-align: top;\n",
       "    }\n",
       "\n",
       "    .dataframe thead th {\n",
       "        text-align: right;\n",
       "    }\n",
       "</style>\n",
       "<table border=\"1\" class=\"dataframe\">\n",
       "  <thead>\n",
       "    <tr style=\"text-align: right;\">\n",
       "      <th></th>\n",
       "      <th>Cluster 0: crimson</th>\n",
       "      <th>Cluster 1: forestgreen</th>\n",
       "      <th>Cluster 2: royalblue</th>\n",
       "      <th>Cluster 3: orangered</th>\n",
       "      <th>Cluster 4: gray</th>\n",
       "    </tr>\n",
       "  </thead>\n",
       "  <tbody>\n",
       "    <tr>\n",
       "      <th>0</th>\n",
       "      <td>Hotel</td>\n",
       "      <td>Hotel</td>\n",
       "      <td>Park</td>\n",
       "      <td>Indian Restaurant</td>\n",
       "      <td>Ice Cream Shop</td>\n",
       "    </tr>\n",
       "    <tr>\n",
       "      <th>1</th>\n",
       "      <td>Coffee Shop</td>\n",
       "      <td>Shopping Mall</td>\n",
       "      <td>Coffee Shop</td>\n",
       "      <td>Hotel</td>\n",
       "      <td>Mexican Restaurant</td>\n",
       "    </tr>\n",
       "    <tr>\n",
       "      <th>2</th>\n",
       "      <td>Café</td>\n",
       "      <td>Coffee Shop</td>\n",
       "      <td>Hotel</td>\n",
       "      <td>Café</td>\n",
       "      <td>Taco Place</td>\n",
       "    </tr>\n",
       "    <tr>\n",
       "      <th>3</th>\n",
       "      <td>Park</td>\n",
       "      <td>Park</td>\n",
       "      <td>Bakery</td>\n",
       "      <td>Multiplex</td>\n",
       "      <td>Seafood Restaurant</td>\n",
       "    </tr>\n",
       "    <tr>\n",
       "      <th>4</th>\n",
       "      <td>Bakery</td>\n",
       "      <td>Chinese Restaurant</td>\n",
       "      <td>Trail</td>\n",
       "      <td>Restaurant</td>\n",
       "      <td>Bakery</td>\n",
       "    </tr>\n",
       "  </tbody>\n",
       "</table>\n",
       "</div>"
      ],
      "text/plain": [
       "  Cluster 0: crimson Cluster 1: forestgreen Cluster 2: royalblue  \\\n",
       "0  Hotel              Hotel                  Park                  \n",
       "1  Coffee Shop        Shopping Mall          Coffee Shop           \n",
       "2  Café               Coffee Shop            Hotel                 \n",
       "3  Park               Park                   Bakery                \n",
       "4  Bakery             Chinese Restaurant     Trail                 \n",
       "\n",
       "  Cluster 3: orangered     Cluster 4: gray  \n",
       "0  Indian Restaurant    Ice Cream Shop      \n",
       "1  Hotel                Mexican Restaurant  \n",
       "2  Café                 Taco Place          \n",
       "3  Multiplex            Seafood Restaurant  \n",
       "4  Restaurant           Bakery              "
      ]
     },
     "execution_count": 64,
     "metadata": {},
     "output_type": "execute_result"
    }
   ],
   "source": [
    "#Finding the top 5 venues in each cluster\n",
    "x_col = ['City', 'City Lat', 'City Long']\n",
    "x = df_grouped.drop(x_col, axis = 1)\n",
    "\n",
    "df_resultsB = pd.DataFrame()\n",
    "\n",
    "for i in range(0, num_clusters):\n",
    "    list_i = x[x['Labels_B'] == i].drop('Labels_B', axis = 1).sum().sort_values(ascending = False).to_frame().reset_index().head(5)['index'].str.replace('Venue Category_', '')\n",
    "    cname = 'Cluster ' + str(i)\n",
    "    df_resultsB[cname] = list_i\n",
    "\n",
    "df_resultsB.columns = ['Cluster 0: ' + colors[0],\n",
    "                      'Cluster 1: ' + colors[1],\n",
    "                      'Cluster 2: ' + colors[2],\n",
    "                      'Cluster 3: ' + colors[3],\n",
    "                      'Cluster 4: ' + colors[4]]\n",
    "df_resultsB"
   ]
  },
  {
   "cell_type": "code",
   "execution_count": 65,
   "metadata": {},
   "outputs": [
    {
     "data": {
      "text/html": [
       "<div>\n",
       "<style scoped>\n",
       "    .dataframe tbody tr th:only-of-type {\n",
       "        vertical-align: middle;\n",
       "    }\n",
       "\n",
       "    .dataframe tbody tr th {\n",
       "        vertical-align: top;\n",
       "    }\n",
       "\n",
       "    .dataframe thead th {\n",
       "        text-align: right;\n",
       "    }\n",
       "</style>\n",
       "<table border=\"1\" class=\"dataframe\">\n",
       "  <thead>\n",
       "    <tr style=\"text-align: right;\">\n",
       "      <th></th>\n",
       "      <th>Cluster</th>\n",
       "      <th>Cities</th>\n",
       "      <th>Color</th>\n",
       "    </tr>\n",
       "  </thead>\n",
       "  <tbody>\n",
       "    <tr>\n",
       "      <th>0</th>\n",
       "      <td>0</td>\n",
       "      <td>Barcelona, Beijing, Belo Horizonte, Buenos Aires, Cairo, Ho Chi Minh City, Istanbul, Johannesburg, Manila, Riyadh, Singapore, Tokyo,</td>\n",
       "      <td>crimson</td>\n",
       "    </tr>\n",
       "    <tr>\n",
       "      <th>1</th>\n",
       "      <td>1</td>\n",
       "      <td>Bangkok, Chengdu, Guangzhou, Hong Kong, Jakarta, Kuala Lumpur, Shanghai, Shenzhen,</td>\n",
       "      <td>forestgreen</td>\n",
       "    </tr>\n",
       "    <tr>\n",
       "      <th>2</th>\n",
       "      <td>2</td>\n",
       "      <td>Atlanta, Chicago, Houston, Lima, London, Los Angeles, Madrid, Miami, Moscow, New York, Paris, Philadelphia, Rio de Janeiro, Santiago, Seoul, Toronto, Washington, D.C.,</td>\n",
       "      <td>royalblue</td>\n",
       "    </tr>\n",
       "    <tr>\n",
       "      <th>3</th>\n",
       "      <td>3</td>\n",
       "      <td>Chennai, Delhi, Hyderabad, Kolkata, Mumbai, Pune, Surat,</td>\n",
       "      <td>orangered</td>\n",
       "    </tr>\n",
       "    <tr>\n",
       "      <th>4</th>\n",
       "      <td>4</td>\n",
       "      <td>Guadalajara, Mexico City,</td>\n",
       "      <td>gray</td>\n",
       "    </tr>\n",
       "  </tbody>\n",
       "</table>\n",
       "</div>"
      ],
      "text/plain": [
       "   Cluster  \\\n",
       "0  0         \n",
       "1  1         \n",
       "2  2         \n",
       "3  3         \n",
       "4  4         \n",
       "\n",
       "                                                                                                                                                                     Cities  \\\n",
       "0  Barcelona, Beijing, Belo Horizonte, Buenos Aires, Cairo, Ho Chi Minh City, Istanbul, Johannesburg, Manila, Riyadh, Singapore, Tokyo,                                       \n",
       "1  Bangkok, Chengdu, Guangzhou, Hong Kong, Jakarta, Kuala Lumpur, Shanghai, Shenzhen,                                                                                         \n",
       "2  Atlanta, Chicago, Houston, Lima, London, Los Angeles, Madrid, Miami, Moscow, New York, Paris, Philadelphia, Rio de Janeiro, Santiago, Seoul, Toronto, Washington, D.C.,    \n",
       "3  Chennai, Delhi, Hyderabad, Kolkata, Mumbai, Pune, Surat,                                                                                                                   \n",
       "4  Guadalajara, Mexico City,                                                                                                                                                  \n",
       "\n",
       "         Color  \n",
       "0  crimson      \n",
       "1  forestgreen  \n",
       "2  royalblue    \n",
       "3  orangered    \n",
       "4  gray         "
      ]
     },
     "execution_count": 65,
     "metadata": {},
     "output_type": "execute_result"
    }
   ],
   "source": [
    "#create a list to store names of all countries in a cluster\n",
    "city_list = ['', '', '', '', '']\n",
    "\n",
    "#populate the list with the city names\n",
    "for index, rows in df_grouped.iterrows():\n",
    "    clusternum = df_grouped.at[index, 'Labels_B']\n",
    "    city_list[clusternum] = city_list[clusternum] + df_grouped.at[index, 'City'] + ', '\n",
    "\n",
    "df_resultsB2 = pd.DataFrame({'Cluster':[0,1,2,3,4], 'Cities':city_list, 'Color':colors})\n",
    "df_resultsB2"
   ]
  },
  {
   "cell_type": "markdown",
   "metadata": {},
   "source": [
    "## 5. Results and Discussion"
   ]
  },
  {
   "cell_type": "markdown",
   "metadata": {},
   "source": [
    "In this notebook, we have used two different approaches for clustering 46 of the world's largest cities - using demographic data and venue distribution. We used data from Wikipedia and Numbero to populate the demographics table, and the FourSquare API was used to obtain venue data.\n",
    "\n",
    "While analysing the demographic data, a strong correlation was observed between the cost indices and the GDP per capita, which indicates that the wealthier cities are also more expensive to live in. The k-means algorithm clustered the cities into the following five categories."
   ]
  },
  {
   "cell_type": "code",
   "execution_count": 66,
   "metadata": {},
   "outputs": [
    {
     "data": {
      "text/html": [
       "<div>\n",
       "<style scoped>\n",
       "    .dataframe tbody tr th:only-of-type {\n",
       "        vertical-align: middle;\n",
       "    }\n",
       "\n",
       "    .dataframe tbody tr th {\n",
       "        vertical-align: top;\n",
       "    }\n",
       "\n",
       "    .dataframe thead th {\n",
       "        text-align: right;\n",
       "    }\n",
       "</style>\n",
       "<table border=\"1\" class=\"dataframe\">\n",
       "  <thead>\n",
       "    <tr style=\"text-align: right;\">\n",
       "      <th></th>\n",
       "      <th>Labels_A</th>\n",
       "      <th>Population</th>\n",
       "      <th>Area</th>\n",
       "      <th>Density</th>\n",
       "      <th>GDP_bn</th>\n",
       "      <th>GDP_pc</th>\n",
       "      <th>COL</th>\n",
       "      <th>RENT</th>\n",
       "      <th>GROC</th>\n",
       "      <th>REST</th>\n",
       "      <th>Cities</th>\n",
       "      <th>Color</th>\n",
       "    </tr>\n",
       "  </thead>\n",
       "  <tbody>\n",
       "    <tr>\n",
       "      <th>0</th>\n",
       "      <td>0</td>\n",
       "      <td>14322316.1</td>\n",
       "      <td>6464.5</td>\n",
       "      <td>2936.7</td>\n",
       "      <td>266.4</td>\n",
       "      <td>18480.8</td>\n",
       "      <td>41.6</td>\n",
       "      <td>17.1</td>\n",
       "      <td>37.9</td>\n",
       "      <td>32.7</td>\n",
       "      <td>Shanghai, Mexico City, Beijing, Buenos Aires, Istanbul, Rio de Janeiro, Guangzhou, Moscow, Shenzhen, Jakarta, Lima, Bangkok, Chengdu, Ho Chi Minh City, Kuala Lumpur, Riyadh, Santiago, Pune, Belo Horizonte, Johannesburg, Guadalajara,</td>\n",
       "      <td>crimson</td>\n",
       "    </tr>\n",
       "    <tr>\n",
       "      <th>1</th>\n",
       "      <td>1</td>\n",
       "      <td>8088271.5</td>\n",
       "      <td>1890.4</td>\n",
       "      <td>6862.6</td>\n",
       "      <td>423.6</td>\n",
       "      <td>50600.3</td>\n",
       "      <td>74.4</td>\n",
       "      <td>50.4</td>\n",
       "      <td>66.6</td>\n",
       "      <td>68.3</td>\n",
       "      <td>Paris, London, Hong Kong, Madrid, Toronto, Singapore, Philadelphia, Barcelona,</td>\n",
       "      <td>forestgreen</td>\n",
       "    </tr>\n",
       "    <tr>\n",
       "      <th>2</th>\n",
       "      <td>2</td>\n",
       "      <td>17557500.0</td>\n",
       "      <td>2149.1</td>\n",
       "      <td>10051.3</td>\n",
       "      <td>129.8</td>\n",
       "      <td>7175.8</td>\n",
       "      <td>27.6</td>\n",
       "      <td>9.2</td>\n",
       "      <td>26.3</td>\n",
       "      <td>21.8</td>\n",
       "      <td>Delhi, Cairo, Mumbai, Kolkata, Manila, Chennai, Hyderabad, Surat,</td>\n",
       "      <td>royalblue</td>\n",
       "    </tr>\n",
       "    <tr>\n",
       "      <th>3</th>\n",
       "      <td>3</td>\n",
       "      <td>28354666.7</td>\n",
       "      <td>14157.0</td>\n",
       "      <td>2085.9</td>\n",
       "      <td>1288.6</td>\n",
       "      <td>47271.9</td>\n",
       "      <td>90.4</td>\n",
       "      <td>55.2</td>\n",
       "      <td>95.4</td>\n",
       "      <td>68.9</td>\n",
       "      <td>Tokyo, New York, Seoul,</td>\n",
       "      <td>orangered</td>\n",
       "    </tr>\n",
       "    <tr>\n",
       "      <th>4</th>\n",
       "      <td>4</td>\n",
       "      <td>8593312.5</td>\n",
       "      <td>17863.8</td>\n",
       "      <td>528.3</td>\n",
       "      <td>484.4</td>\n",
       "      <td>55842.4</td>\n",
       "      <td>77.4</td>\n",
       "      <td>56.1</td>\n",
       "      <td>75.2</td>\n",
       "      <td>80.5</td>\n",
       "      <td>Los Angeles, Chicago, Houston, Miami, Atlanta, Washington, D.C.,</td>\n",
       "      <td>gray</td>\n",
       "    </tr>\n",
       "  </tbody>\n",
       "</table>\n",
       "</div>"
      ],
      "text/plain": [
       "   Labels_A  Population     Area  Density  GDP_bn   GDP_pc   COL  RENT  GROC  \\\n",
       "0  0         14322316.1  6464.5   2936.7   266.4   18480.8  41.6  17.1  37.9   \n",
       "1  1         8088271.5   1890.4   6862.6   423.6   50600.3  74.4  50.4  66.6   \n",
       "2  2         17557500.0  2149.1   10051.3  129.8   7175.8   27.6  9.2   26.3   \n",
       "3  3         28354666.7  14157.0  2085.9   1288.6  47271.9  90.4  55.2  95.4   \n",
       "4  4         8593312.5   17863.8  528.3    484.4   55842.4  77.4  56.1  75.2   \n",
       "\n",
       "   REST  \\\n",
       "0  32.7   \n",
       "1  68.3   \n",
       "2  21.8   \n",
       "3  68.9   \n",
       "4  80.5   \n",
       "\n",
       "                                                                                                                                                                                                                                      Cities  \\\n",
       "0  Shanghai, Mexico City, Beijing, Buenos Aires, Istanbul, Rio de Janeiro, Guangzhou, Moscow, Shenzhen, Jakarta, Lima, Bangkok, Chengdu, Ho Chi Minh City, Kuala Lumpur, Riyadh, Santiago, Pune, Belo Horizonte, Johannesburg, Guadalajara,    \n",
       "1  Paris, London, Hong Kong, Madrid, Toronto, Singapore, Philadelphia, Barcelona,                                                                                                                                                              \n",
       "2  Delhi, Cairo, Mumbai, Kolkata, Manila, Chennai, Hyderabad, Surat,                                                                                                                                                                           \n",
       "3  Tokyo, New York, Seoul,                                                                                                                                                                                                                     \n",
       "4  Los Angeles, Chicago, Houston, Miami, Atlanta, Washington, D.C.,                                                                                                                                                                            \n",
       "\n",
       "         Color  \n",
       "0  crimson      \n",
       "1  forestgreen  \n",
       "2  royalblue    \n",
       "3  orangered    \n",
       "4  gray         "
      ]
     },
     "execution_count": 66,
     "metadata": {},
     "output_type": "execute_result"
    }
   ],
   "source": [
    "df_resultsA"
   ]
  },
  {
   "cell_type": "markdown",
   "metadata": {},
   "source": [
    "In order to analyze this further, we represent each of these values on a radar plot. Since this functionality is not available in python, the dataset was exported to Ms-Excel and the radar chart was plotted there. The columns contain information which differ by orders of magnitude. For the sake of plotting, each value was divided by the maximum value in its column to ensure that all numerical values lie between 0 and 1."
   ]
  },
  {
   "attachments": {
    "Capstone_Clusters_Demo_Radar.JPG": {
     "image/jpeg": "[encoded data removed]"
    }
   },
   "cell_type": "markdown",
   "metadata": {},
   "source": [
    "![Capstone_Clusters_Demo_Radar.JPG](attachment:Capstone_Clusters_Demo_Radar.JPG)"
   ]
  },
  {
   "cell_type": "markdown",
   "metadata": {},
   "source": [
    "The five clusters can be understood as follows\n",
    "1. <b><font color = 'crimson'>Cluster 0</font></b>: Bulk of the cities fall into this category. They do not have any marked characteristic, as all the parameters are average and no distinction is seen. From a geographical perspective, these cities are all located in develping countries.\n",
    "2. <b><font color = 'forestgreen'>Cluster 1</font></b>: These cities are marked by small size, moderately high population density, high GDP per capita and high cost indices. Most of them are European.\n",
    "3. <b><font color = 'royalblue'>Cluster 2</font></b>: These cities are characterized by their small size, low GDP, low cost indices and extremely high population density. One can expect them to be high poverty, congested cities. Most of them are located in India.\n",
    "4. <b><font color = 'orangered'>Cluster 3</font></b>: These cities have large populations, extremely high GDPs and cost indices, but low population density. Only three cities - NYC, Tokyo and Seoul fall in this category.\n",
    "5. <b><font color = 'gray'>Cluster 4</font></b>: These cities are similar to cluster 4 but are even bigger in size. They can best be described as rich, large cities. They are all located in the USA.\n",
    "\n",
    "Clustering based on venue distribution around the city centre yielded the following five clusters:"
   ]
  },
  {
   "cell_type": "code",
   "execution_count": 68,
   "metadata": {},
   "outputs": [
    {
     "data": {
      "text/html": [
       "<div>\n",
       "<style scoped>\n",
       "    .dataframe tbody tr th:only-of-type {\n",
       "        vertical-align: middle;\n",
       "    }\n",
       "\n",
       "    .dataframe tbody tr th {\n",
       "        vertical-align: top;\n",
       "    }\n",
       "\n",
       "    .dataframe thead th {\n",
       "        text-align: right;\n",
       "    }\n",
       "</style>\n",
       "<table border=\"1\" class=\"dataframe\">\n",
       "  <thead>\n",
       "    <tr style=\"text-align: right;\">\n",
       "      <th></th>\n",
       "      <th>Cluster 0: crimson</th>\n",
       "      <th>Cluster 1: forestgreen</th>\n",
       "      <th>Cluster 2: royalblue</th>\n",
       "      <th>Cluster 3: orangered</th>\n",
       "      <th>Cluster 4: gray</th>\n",
       "    </tr>\n",
       "  </thead>\n",
       "  <tbody>\n",
       "    <tr>\n",
       "      <th>0</th>\n",
       "      <td>Hotel</td>\n",
       "      <td>Hotel</td>\n",
       "      <td>Park</td>\n",
       "      <td>Indian Restaurant</td>\n",
       "      <td>Ice Cream Shop</td>\n",
       "    </tr>\n",
       "    <tr>\n",
       "      <th>1</th>\n",
       "      <td>Coffee Shop</td>\n",
       "      <td>Shopping Mall</td>\n",
       "      <td>Coffee Shop</td>\n",
       "      <td>Hotel</td>\n",
       "      <td>Mexican Restaurant</td>\n",
       "    </tr>\n",
       "    <tr>\n",
       "      <th>2</th>\n",
       "      <td>Café</td>\n",
       "      <td>Coffee Shop</td>\n",
       "      <td>Hotel</td>\n",
       "      <td>Café</td>\n",
       "      <td>Taco Place</td>\n",
       "    </tr>\n",
       "    <tr>\n",
       "      <th>3</th>\n",
       "      <td>Park</td>\n",
       "      <td>Park</td>\n",
       "      <td>Bakery</td>\n",
       "      <td>Multiplex</td>\n",
       "      <td>Seafood Restaurant</td>\n",
       "    </tr>\n",
       "    <tr>\n",
       "      <th>4</th>\n",
       "      <td>Bakery</td>\n",
       "      <td>Chinese Restaurant</td>\n",
       "      <td>Trail</td>\n",
       "      <td>Restaurant</td>\n",
       "      <td>Bakery</td>\n",
       "    </tr>\n",
       "  </tbody>\n",
       "</table>\n",
       "</div>"
      ],
      "text/plain": [
       "  Cluster 0: crimson Cluster 1: forestgreen Cluster 2: royalblue  \\\n",
       "0  Hotel              Hotel                  Park                  \n",
       "1  Coffee Shop        Shopping Mall          Coffee Shop           \n",
       "2  Café               Coffee Shop            Hotel                 \n",
       "3  Park               Park                   Bakery                \n",
       "4  Bakery             Chinese Restaurant     Trail                 \n",
       "\n",
       "  Cluster 3: orangered     Cluster 4: gray  \n",
       "0  Indian Restaurant    Ice Cream Shop      \n",
       "1  Hotel                Mexican Restaurant  \n",
       "2  Café                 Taco Place          \n",
       "3  Multiplex            Seafood Restaurant  \n",
       "4  Restaurant           Bakery              "
      ]
     },
     "execution_count": 68,
     "metadata": {},
     "output_type": "execute_result"
    }
   ],
   "source": [
    "df_resultsB"
   ]
  },
  {
   "cell_type": "markdown",
   "metadata": {},
   "source": [
    "While the top 5 categories in each cluster are self - explanatory, some trends in their geographical location are observed. This can be explained by the data obtained from FourSquare - while there are some common venues across all cities (hotels, cafes and coffee shops) certain cities are marked by a higher concentration of a certain kind of venue.\n",
    "\n",
    "1. <b><font color = 'crimson'>Cluster 0</font></b> is located across all continents with no special characteristics.\n",
    "2. <b><font color = 'forestgreen'>Cluster 1</font></b> is mostly present in SEA and China, marked by Chinese restaurants.\n",
    "3. <b><font color = 'royalblue'>Cluster 2</font></b> has cities in the US and Europe, marked by a high density of parks.\n",
    "4. <b><font color = 'orangered'>Cluster 3</font></b> contains cities that are all located in India, with Indian restaurants and multiplexes among the top 5 venue categories.\n",
    "5. <b><font color = 'gray'>Cluster 4</font></b> contains two Mexican cities, marked by taco places and mexican restaurants."
   ]
  },
  {
   "cell_type": "markdown",
   "metadata": {},
   "source": [
    "## 6. Conclusion"
   ]
  },
  {
   "cell_type": "markdown",
   "metadata": {},
   "source": [
    "In this report, we tried to cluster the world's largest cities into 5 categories, based on both demographic and venue data sourced from FourSquare. While 50% of the dataset was clustered into one category, there were some cities that stood out because of one or more defining characteristics.\n",
    "\n",
    "In this exercise, we used the GDP per capita as a measure of the city's wealth. However, income levels (Average income or its distribution) might be a better representation of the same, because the GDP also contains government expenditure. Furthermore, the cost indices could be replaced by actual costs of key commodities. The purchasing power of the local currency should also be considered as a parameter, as that affects the value one can extract from their salary.\n",
    "\n",
    "As far as the foursquare data is concerned, the current exercise did not distinguish between types of venues. However, when making a decision to move overseas, some venues are more important than others. For example, banks, schools and medical facilities might be considered more important than restaurants. For a better analysis, 4 or 5 such macro categories can be defined and the number of venues that fall under each of them can then be used for comparison."
   ]
  }
 ],
 "metadata": {
  "kernelspec": {
   "display_name": "Python 3",
   "language": "python",
   "name": "python3"
  },
  "language_info": {
   "codemirror_mode": {
    "name": "ipython",
    "version": 3
   },
   "file_extension": ".py",
   "mimetype": "text/x-python",
   "name": "python",
   "nbconvert_exporter": "python",
   "pygments_lexer": "ipython3",
   "version": "3.7.6"
  }
 },
 "nbformat": 4,
 "nbformat_minor": 4
}
