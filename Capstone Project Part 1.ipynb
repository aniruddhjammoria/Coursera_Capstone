{
 "cells": [
  {
   "cell_type": "markdown",
   "metadata": {},
   "source": [
    "# Coursera Capstone Project: Part 1"
   ]
  },
  {
   "cell_type": "markdown",
   "metadata": {},
   "source": [
    "### Submitted by: Aniruddh Jammoria"
   ]
  },
  {
   "cell_type": "markdown",
   "metadata": {},
   "source": [
    " "
   ]
  },
  {
   "cell_type": "markdown",
   "metadata": {},
   "source": [
    "## Introduction"
   ]
  },
  {
   "cell_type": "markdown",
   "metadata": {},
   "source": [
    "Millennials (people born between 1980 and 2000) comprise over one third of the global professional workforce - representing 25% of US and over 50% of the Indian working professionals. The global financial crisis of 2008 and the expected crisis because of the Coronavirus pandemic has affected the loyalty that millennials feel towards their employers. According to a [PWC survey](https://www.pwc.com/co/es/publicaciones/assets/millennials-at-work.pdf) conducted in 2011, more than 50% of millennials expected to have 2-5 employers within their lifetime. Millennials are also a globally mobile workforce - according to a [2019 survey conducted by Deloitte](https://www2.deloitte.com/global/en/pages/about-deloitte/articles/millennialsurvey.html), 'Seeing/Experiencing the world' was the topmost priority of millennials, with over 60% respondents expressing the desire to do so. USA, Brazil, UK, Germany, China and Singapore are the top destinations where millennials are sent for work assignments.\n",
    "\n",
    "While career progression remains the topmost reason for international movement, several other factors come into play while zeroing down on the next big move. These include, but are not limited to expenses, population density (a measure of congestion), quality of life and cultural experience. My own move to Singapore last year was driven primarily by my desire to explore South East Asia in greater detail. Travelling across various cities, I came to the realization that cities could have varying degrees of likeness - for example, the density and distribution of traffic in Jakarta (and the traffic jams that consequently arose) were very similar to what I saw in Mumbai and Bangalore. While smaller cities retained most of their 'local' flavour, larger and more cosmopolitan cities had restaurants and cafes serving foods from all leading cuisines.\n",
    "\n",
    "This report aims at clustering 80 of the world's largest and most populated cities into two or more clusters, based on similarity across demographic attributes and venue density around the city centres. Both of these clustering approaches are discussed separately. Targeted mostly at millennials who are looking to move overseas, I hope that this report helps them get a flavour of what is yet to come."
   ]
  },
  {
   "cell_type": "markdown",
   "metadata": {},
   "source": [
    " "
   ]
  },
  {
   "cell_type": "markdown",
   "metadata": {},
   "source": [
    "## Data used"
   ]
  },
  {
   "cell_type": "markdown",
   "metadata": {},
   "source": [
    "The code in this project uses the following data\n",
    "\n",
    "1. A list of the world's 80 largest cities, as defined by the United Nations in 2018. This data was obtained from Wikipedia. [The wiki](https://en.wikipedia.org/wiki/List_of_largest_cities) includes the city names, the country they are present in, and the populations and areas of different types of urban boundaries. The maximum value of population and area for each city (among the three different types of definitions) was considered in order to ensure availability of data.\n",
    "\n",
    "\n",
    "2. GDP (Gross Domestic Product) for cities across the world. This data was also obtained from Wikipedia. [The wiki](https://en.wikipedia.org/wiki/List_of_cities_by_GDP) page has nominal as well as absolute GDP values for >300 countries from various sources. For the sake of comparison, only the PPP adjusted GDP was considered\n",
    "\n",
    "\n",
    "3. Coordinate data for each of the cities ie the Latitude and Longitude values. This data was obtained using the geopy library of Python, and was used for plotting color-coded maps using the folium library.\n",
    "\n",
    "\n",
    "4. A list of venues around the city centre. This data was obtained using the Foursquare API. The search radius and the number of venues obtained using the .get() command were increased to provide a more diverse dataset.\n",
    "\n"
   ]
  },
  {
   "cell_type": "code",
   "execution_count": null,
   "metadata": {},
   "outputs": [],
   "source": []
  }
 ],
 "metadata": {
  "kernelspec": {
   "display_name": "Python 3",
   "language": "python",
   "name": "python3"
  },
  "language_info": {
   "codemirror_mode": {
    "name": "ipython",
    "version": 3
   },
   "file_extension": ".py",
   "mimetype": "text/x-python",
   "name": "python",
   "nbconvert_exporter": "python",
   "pygments_lexer": "ipython3",
   "version": "3.7.6"
  }
 },
 "nbformat": 4,
 "nbformat_minor": 4
}
